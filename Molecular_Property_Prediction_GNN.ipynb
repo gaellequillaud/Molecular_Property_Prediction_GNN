{
  "nbformat": 4,
  "nbformat_minor": 0,
  "metadata": {
    "colab": {
      "provenance": [],
      "collapsed_sections": [
        "7jh_l0g4aLB-",
        "QD7jZcaGZ7m9",
        "U7_WYIhVL8Qc",
        "uxDbZAs1Olx7",
        "_CBTdZCjCURc",
        "EyPtDYj6Yz64",
        "iD_6apg8kYDy",
        "olyPX1TjQMvr",
        "k4fqhekzCB-X",
        "3ZKZKPOuCVTY",
        "zZI9k4h6FsPF",
        "SzrfuUZNFg_X",
        "q5xkbeIMeSaL"
      ],
      "machine_shape": "hm",
      "gpuType": "T4",
      "mount_file_id": "1-in7CBXdKP2JlvTDjbB-XTJ-uNqcEFpf",
      "authorship_tag": "ABX9TyPZ+ccbZa/xCxqtdNwIIJY6",
      "include_colab_link": true
    },
    "kernelspec": {
      "name": "python3",
      "display_name": "Python 3"
    },
    "language_info": {
      "name": "python"
    },
    "accelerator": "GPU"
  },
  "cells": [
    {
      "cell_type": "markdown",
      "metadata": {
        "id": "view-in-github",
        "colab_type": "text"
      },
      "source": [
        "<a href=\"https://colab.research.google.com/github/gaellequillaud/Molecular_Property_Prediction_GNN/blob/main/Molecular_Property_Prediction_GNN.ipynb\" target=\"_parent\"><img src=\"https://colab.research.google.com/assets/colab-badge.svg\" alt=\"Open In Colab\"/></a>"
      ]
    },
    {
      "cell_type": "markdown",
      "source": [
        "# **Molecular Property Prediction Using Graph Neural Networks**\n"
      ],
      "metadata": {
        "id": "7jh_l0g4aLB-"
      }
    },
    {
      "cell_type": "markdown",
      "source": [
        "## **1. Install RDkit and PyTorch Geometric**\n",
        "\n"
      ],
      "metadata": {
        "id": "QD7jZcaGZ7m9"
      }
    },
    {
      "cell_type": "code",
      "source": [
        "! pip install rdkit\n",
        "! pip install torch_geometric"
      ],
      "metadata": {
        "id": "-Sl9LsyqYyzN"
      },
      "execution_count": null,
      "outputs": []
    },
    {
      "cell_type": "markdown",
      "source": [
        "---"
      ],
      "metadata": {
        "id": "-FxJYuOzd569"
      }
    },
    {
      "cell_type": "markdown",
      "metadata": {
        "id": "H661uGwCNFMC"
      },
      "source": [
        "## **2. Solubility dataset**\n",
        "\n",
        "The original [Delaney's dataset](https://pubs.acs.org/doi/suppl/10.1021/ci034243x/suppl_file/ci034243xsi20040112_053635.txt). The full paper is entitled [ESOL:  Estimating Aqueous Solubility Directly from Molecular Structure](https://pubs.acs.org/doi/10.1021/ci034243x).$^1$"
      ]
    },
    {
      "cell_type": "markdown",
      "metadata": {
        "id": "s6o9QzQnNRVx"
      },
      "source": [
        "### **2.1. Download the dataset**"
      ]
    },
    {
      "cell_type": "code",
      "source": [
        "! wget https://pubs.acs.org/doi/suppl/10.1021/ci034243x/suppl_file/ci034243xsi20040112_053635.txt"
      ],
      "metadata": {
        "id": "E8J-iYTGUCqb"
      },
      "execution_count": null,
      "outputs": []
    },
    {
      "cell_type": "markdown",
      "source": [
        "If the previous link doesn't work, use :"
      ],
      "metadata": {
        "id": "nHb8kUyEXUHh"
      }
    },
    {
      "cell_type": "code",
      "source": [
        "! wget https://raw.githubusercontent.com/gaellequillaud/Molecular_Property_Prediction_GNN/main/delaney.csv"
      ],
      "metadata": {
        "id": "c460qit_XP7z"
      },
      "execution_count": null,
      "outputs": []
    },
    {
      "cell_type": "markdown",
      "source": [
        "### **2.2. Read in the dataset**"
      ],
      "metadata": {
        "id": "iCM1eMvjUoRm"
      }
    },
    {
      "cell_type": "code",
      "metadata": {
        "id": "0ufiOpEbNooH"
      },
      "source": [
        "import pandas as pd"
      ],
      "execution_count": null,
      "outputs": []
    },
    {
      "cell_type": "code",
      "source": [
        "sol = pd.read_csv('delaney.csv')\n",
        "sol"
      ],
      "metadata": {
        "id": "RT6T0Ds-VCAc"
      },
      "execution_count": null,
      "outputs": []
    },
    {
      "cell_type": "code",
      "source": [
        "smiles_list = [smiles for smiles in sol.SMILES]"
      ],
      "metadata": {
        "id": "h2hWLyc6N6D2"
      },
      "execution_count": null,
      "outputs": []
    },
    {
      "cell_type": "markdown",
      "source": [
        "Extract atom symbols from the datset"
      ],
      "metadata": {
        "id": "jGCh8jZKOqrh"
      }
    },
    {
      "cell_type": "code",
      "source": [
        "import re"
      ],
      "metadata": {
        "id": "tis2E_92O06u"
      },
      "execution_count": null,
      "outputs": []
    },
    {
      "cell_type": "code",
      "source": [
        "atom_symbols = set()\n",
        "for compound in smiles_list:\n",
        "    symbols = re.findall('[A-Z][a-z]?', compound)\n",
        "    atom_symbols.update(symbols)\n",
        "\n",
        "atom_symbols_list = list(atom_symbols)"
      ],
      "metadata": {
        "id": "SplAFMEHOplP"
      },
      "execution_count": null,
      "outputs": []
    },
    {
      "cell_type": "code",
      "source": [
        "atom_symbols_list"
      ],
      "metadata": {
        "id": "KqDH45A9O5-H"
      },
      "execution_count": null,
      "outputs": []
    },
    {
      "cell_type": "markdown",
      "source": [
        "---"
      ],
      "metadata": {
        "id": "rzvB04-Od9xK"
      }
    },
    {
      "cell_type": "markdown",
      "source": [
        "## **3. Imports**"
      ],
      "metadata": {
        "id": "HBGDvb5SLYVF"
      }
    },
    {
      "cell_type": "code",
      "source": [
        "import numpy as np\n",
        "import pandas as pd\n",
        "import matplotlib.pyplot as plt\n",
        "import re\n",
        "import os\n",
        "\n",
        "from rdkit import Chem\n",
        "from rdkit.Chem import MolFromSmiles, rdmolops\n",
        "\n",
        "import torch\n",
        "import torch.nn as nn\n",
        "import torch.optim as optim\n",
        "import torch.nn.functional as F\n",
        "from sklearn.model_selection import train_test_split\n",
        "from torch_geometric.data import Data, DataLoader\n",
        "from torch_geometric.loader import DataLoader\n",
        "from torch_geometric.nn import GCNConv\n",
        "from torch_geometric.nn.dense import DenseGCNConv\n",
        "from torch_geometric.nn import global_max_pool as gmp\n",
        "\n",
        "import networkx as nx\n",
        "from sklearn.model_selection import train_test_split\n",
        "from sklearn.metrics import mean_squared_error, mean_absolute_error\n",
        "from tqdm.notebook import tqdm\n",
        "from scipy.sparse import coo_matrix"
      ],
      "metadata": {
        "id": "2Yc227ARL0jv"
      },
      "execution_count": null,
      "outputs": []
    },
    {
      "cell_type": "markdown",
      "source": [
        "## **4. Data preparation**"
      ],
      "metadata": {
        "id": "U7_WYIhVL8Qc"
      }
    },
    {
      "cell_type": "markdown",
      "source": [
        "### **4.1. Atom and edge features**"
      ],
      "metadata": {
        "id": "85emcN2ZQA4b"
      }
    },
    {
      "cell_type": "code",
      "source": [
        "def atom_features(mol):\n",
        "  symbols = [\n",
        "    'Oc', 'I', 'H', 'Sc', 'Cc', 'C', 'Fc', 'Cl', 'Nc', 'Cn', 'S', 'P', 'Ic',\n",
        "    'O', 'Br', 'N', 'F'\n",
        "  ]\n",
        "\n",
        "  hybridizations = [\n",
        "    Chem.rdchem.HybridizationType.S,\n",
        "    Chem.rdchem.HybridizationType.SP,\n",
        "    Chem.rdchem.HybridizationType.SP2,\n",
        "    Chem.rdchem.HybridizationType.SP3,\n",
        "    Chem.rdchem.HybridizationType.SP3D,\n",
        "    Chem.rdchem.HybridizationType.SP3D2,\n",
        "    'other',\n",
        "  ]\n",
        "\n",
        "  XS = []\n",
        "  features = []\n",
        "\n",
        "  for atom in mol.GetAtoms():\n",
        "    # Symbol feature\n",
        "    symbol = [0.]*len(symbols)\n",
        "    symbol[symbols.index(atom.GetSymbol())] = 1.\n",
        "\n",
        "    # Degree feature\n",
        "    degree = [0.]*8\n",
        "    degree[atom.GetDegree()]=1.\n",
        "\n",
        "    # Charge feature\n",
        "    charge = atom.GetFormalCharge()\n",
        "\n",
        "    # Radical electrons feature??\n",
        "    radical_electrons = atom.GetNumRadicalElectrons()\n",
        "\n",
        "    # Hybridization feature\n",
        "    hybridization = [0.]*len(hybridizations)\n",
        "    hybridization[hybridizations.index(atom.GetHybridization())]=1.\n",
        "\n",
        "    # Aromaticity feature\n",
        "    if atom.GetIsAromatic():\n",
        "      aromaticity = 1.\n",
        "    else:\n",
        "      aromaticity = 0.\n",
        "\n",
        "    # Number of connected hydrogens feature\n",
        "    hydrogens = [0.]*5\n",
        "    hydrogens[atom.GetTotalNumHs()]=1.\n",
        "\n",
        "    # Chirality feature\n",
        "    if atom.HasProp('_ChiralityPossible'):\n",
        "      chirality = 1.\n",
        "    else:\n",
        "      chirality = 0.\n",
        "\n",
        "    chirality_type = [0.]*2\n",
        "    if atom.HasProp('_CIPCode'):\n",
        "      chirality_type[['R', 'S'].index(atom.GetProp('_CIPCode'))]=1.\n",
        "      print(chirality_type)\n",
        "\n",
        "    X = torch.tensor(symbol + degree + [charge] + [radical_electrons] +\n",
        "                     hybridization + [aromaticity] + hydrogens + [chirality] +\n",
        "                     chirality_type)\n",
        "    XS.append(X)\n",
        "    features = torch.stack(XS, dim=0)\n",
        "\n",
        "  return features"
      ],
      "metadata": {
        "id": "rDKQo4Fhl9G8"
      },
      "execution_count": null,
      "outputs": []
    },
    {
      "cell_type": "code",
      "source": [
        "def edge_features(mol):\n",
        "  stereos = [\n",
        "    Chem.rdchem.BondStereo.STEREONONE,\n",
        "    Chem.rdchem.BondStereo.STEREOANY,\n",
        "    Chem.rdchem.BondStereo.STEREOZ,\n",
        "    Chem.rdchem.BondStereo.STEREOE,\n",
        "  ]\n",
        "\n",
        "  edge_indices = []\n",
        "  edge_attrs = []\n",
        "\n",
        "  for bond in mol.GetBonds():\n",
        "    edge_indices += [[bond.GetBeginAtomIdx(), bond.GetEndAtomIdx()]]\n",
        "    edge_indices += [[bond.GetEndAtomIdx(), bond.GetBeginAtomIdx()]]\n",
        "\n",
        "    # Bond type feature\n",
        "    bond_type = bond.GetBondType()\n",
        "    single = 1. if bond_type == Chem.rdchem.BondType.SINGLE else 0.\n",
        "    double = 1. if bond_type == Chem.rdchem.BondType.DOUBLE else 0.\n",
        "    triple = 1. if bond_type == Chem.rdchem.BondType.TRIPLE else 0.\n",
        "    aromatic = 1. if bond_type == Chem.rdchem.BondType.AROMATIC else 0.\n",
        "\n",
        "    # Conjugation feature\n",
        "    conjugation = 1. if bond.GetIsConjugated() else 0.\n",
        "\n",
        "    # Stereo feature\n",
        "    stereo = [0.]*len(stereos)\n",
        "    stereo[stereos.index(bond.GetStereo())] = 1.\n",
        "\n",
        "    # Ring membership feature\n",
        "    ring_membership = 1. if bond.IsInRing() else 0.\n",
        "\n",
        "\n",
        "    edge_attr = torch.tensor([single, double, triple, aromatic, conjugation,\n",
        "                                  ring_membership] + stereo)\n",
        "    edge_attrs += [edge_attr, edge_attr]\n",
        "\n",
        "  if len(edge_attrs) == 0:\n",
        "    edge_index = torch.zeros((2,0), dtype=torch.long)\n",
        "    edge_attr = torch.zeros((0,10), dtype=torch.float)\n",
        "  else:\n",
        "    edge_index = torch.tensor(edge_indices).t().contiguous()\n",
        "    edge_attr =  torch.stack(edge_attrs, dim=0)\n",
        "\n",
        "  return edge_index, edge_attr\n",
        "\n"
      ],
      "metadata": {
        "id": "wYvHDJA9mZUS"
      },
      "execution_count": null,
      "outputs": []
    },
    {
      "cell_type": "markdown",
      "source": [
        "### **4.2. Conversion to a graph**"
      ],
      "metadata": {
        "id": "zbFB1YTVQMF3"
      }
    },
    {
      "cell_type": "code",
      "source": [
        "def smiles_to_graph(smiles):\n",
        "  mol = Chem.MolFromSmiles(smiles)\n",
        "  if mol==None:\n",
        "    return None\n",
        "\n",
        "  ## Atom features\n",
        "  features = atom_features(mol)\n",
        "\n",
        "  ## Edge features\n",
        "  edge_index, edge_attr = edge_features(mol)\n",
        "\n",
        "  nb_atoms = mol.GetNumAtoms()\n",
        "  adjacency_matrix = rdmolops.GetAdjacencyMatrix(mol, useBO=True)\n",
        "\n",
        "  return nb_atoms, features, edge_index, edge_attr, adjacency_matrix"
      ],
      "metadata": {
        "id": "_JWz_labPEdQ"
      },
      "execution_count": null,
      "outputs": []
    },
    {
      "cell_type": "code",
      "source": [
        "Chem.MolFromSmiles('ClC(=C)Cl')"
      ],
      "metadata": {
        "id": "JWWRy1uuUuDQ"
      },
      "execution_count": null,
      "outputs": []
    },
    {
      "cell_type": "code",
      "source": [
        "# smiles_to_graph('ClC(=C)Cl')"
      ],
      "metadata": {
        "id": "3pyMsXuOMmtG"
      },
      "execution_count": null,
      "outputs": []
    },
    {
      "cell_type": "code",
      "source": [
        "graph_data = []\n",
        "targets = []\n",
        "\n",
        "for idx, row in sol.iterrows():\n",
        "    smiles = row['SMILES']\n",
        "    solubility = row['measured log(solubility:mol/L)']\n",
        "    graph = smiles_to_graph(smiles)\n",
        "    if graph is not None:\n",
        "        nb_atoms, features, edge_index, edge_attr, adjacency_matrix = graph\n",
        "        graph_data.append(Data(x=features, edge_index=edge_index, edge_attr=edge_attr))\n",
        "        targets.append(solubility)"
      ],
      "metadata": {
        "id": "YR7mzcuAH0ks"
      },
      "execution_count": null,
      "outputs": []
    },
    {
      "cell_type": "code",
      "source": [
        "# Convert targets to tensor\n",
        "targets = torch.tensor(targets, dtype=torch.float32)"
      ],
      "metadata": {
        "id": "cvaIIC_7UrAL"
      },
      "execution_count": null,
      "outputs": []
    },
    {
      "cell_type": "markdown",
      "source": [
        "## **5. Graph Convolutional Neural Network**"
      ],
      "metadata": {
        "id": "ReKd0ejvQYLS"
      }
    },
    {
      "cell_type": "markdown",
      "source": [
        "### **5.1. Split data into training and testing**"
      ],
      "metadata": {
        "id": "fNnzJkzFQkOi"
      }
    },
    {
      "cell_type": "code",
      "source": [
        "train_data, test_data, train_targets, test_targets = train_test_split(graph_data, targets, test_size=0.2, random_state=42)"
      ],
      "metadata": {
        "id": "sqvtdJtPIE7t"
      },
      "execution_count": null,
      "outputs": []
    },
    {
      "cell_type": "markdown",
      "source": [
        "### **5.2. Define the model**"
      ],
      "metadata": {
        "id": "_2ilweuGQsG2"
      }
    },
    {
      "cell_type": "code",
      "source": [
        "class GCN(nn.Module):\n",
        "  def __init__(self, num_features=43, dropout=0.2):\n",
        "    super(GCN, self).__init__()\n",
        "\n",
        "    self.conv1 = GCNConv(num_features, 336)\n",
        "    self.conv2 = GCNConv(336, 168)\n",
        "    self.lin1 = nn.Linear(168, 84)\n",
        "    self.lin2 = nn.Linear(84, 42)\n",
        "    self.out = nn.Linear(42, 1)\n",
        "\n",
        "    self.dropout = nn.Dropout(dropout)\n",
        "\n",
        "  def forward(self, data):\n",
        "    x, edge_index = data.x, data.edge_index\n",
        "\n",
        "    x = F.relu(self.conv1(x, edge_index))\n",
        "    x = F.dropout(x, p=0.2, training=self.training)\n",
        "    x = self.conv2(x, edge_index)\n",
        "    x = F.relu(x)\n",
        "    x = gmp(x, batch=data.batch)\n",
        "    x = self.lin1(x)\n",
        "    x = F.relu(x)\n",
        "\n",
        "    x = self.lin2(x)\n",
        "    x = F.relu(x)\n",
        "    x = self.out(x)\n",
        "\n",
        "    return x"
      ],
      "metadata": {
        "id": "1-UTeP-RueSk"
      },
      "execution_count": null,
      "outputs": []
    },
    {
      "cell_type": "markdown",
      "source": [
        "### **5.3. Initialize the model**"
      ],
      "metadata": {
        "id": "8TEqKElUQ4KH"
      }
    },
    {
      "cell_type": "code",
      "source": [
        "model = GCN(num_features=43)\n",
        "device = torch.device(\"cuda\" if torch.cuda.is_available() else \"cpu\")\n",
        "model.to(device)\n",
        "\n",
        "criterion = nn.MSELoss()\n",
        "optimizer = optim.Adam(model.parameters(), lr=0.01)"
      ],
      "metadata": {
        "id": "2pZKAYTLRALR"
      },
      "execution_count": null,
      "outputs": []
    },
    {
      "cell_type": "markdown",
      "source": [
        "### **5.4. Train the model**"
      ],
      "metadata": {
        "id": "jxKffHRbRLHI"
      }
    },
    {
      "cell_type": "code",
      "source": [
        "from tqdm import tqdm\n",
        "\n",
        "# 3.4. Train the model\n",
        "\n",
        "num_epochs = 100\n",
        "train_losses = []\n",
        "\n",
        "for epoch in range(num_epochs):\n",
        "  model.train()\n",
        "  epoch_loss = 0.0\n",
        "  with tqdm(total=len(train_data), desc=f\"Epoch {epoch+1}/{num_epochs}\", unit='data') as pbar:\n",
        "      for data, target in zip(train_data, train_targets):\n",
        "        # Move data and target to GPU\n",
        "        data = data.to(device)\n",
        "        target = target.to(device)\n",
        "\n",
        "        optimizer.zero_grad()\n",
        "        outputs = model(data)\n",
        "\n",
        "        # Ensure target tensor has the same size as outputs\n",
        "        if target.dim() == 0:\n",
        "          target = target.expand_as(outputs)\n",
        "\n",
        "        mse_loss = F.mse_loss(outputs, target)  # Use torch.nn.functional.mse_loss\n",
        "        mae_loss = F.l1_loss(outputs, target)\n",
        "        mse_loss.backward()\n",
        "        # mae_loss.backward()\n",
        "        optimizer.step()\n",
        "\n",
        "        epoch_loss += mse_loss.item()\n",
        "        pbar.set_postfix(mse_loss=mse_loss.item(), mae_loss=mae_loss.item())\n",
        "        pbar.update(1)\n",
        "\n",
        "      train_losses.append(epoch_loss / len(train_data))\n",
        "\n",
        "print(\"\\nTraining finished.\")"
      ],
      "metadata": {
        "id": "XUsdAegSWjQg"
      },
      "execution_count": null,
      "outputs": []
    },
    {
      "cell_type": "markdown",
      "source": [
        "Plot the training loss :"
      ],
      "metadata": {
        "id": "V80j_M_XL8h1"
      }
    },
    {
      "cell_type": "code",
      "source": [
        "plt.plot(train_losses, label='Training Loss')\n",
        "plt.xlabel('Epochs')\n",
        "plt.ylabel('Loss')\n",
        "plt.title('Training Loss vs. Epochs')\n",
        "plt.legend()\n",
        "plt.show()"
      ],
      "metadata": {
        "id": "J0ltS3e_vROF"
      },
      "execution_count": null,
      "outputs": []
    },
    {
      "cell_type": "markdown",
      "source": [
        "Save the weights :"
      ],
      "metadata": {
        "id": "eJOBFHX3MB6b"
      }
    },
    {
      "cell_type": "code",
      "source": [
        "from google.colab import drive\n",
        "drive.mount('/content/drive')"
      ],
      "metadata": {
        "id": "V3IvAXUuWzf5"
      },
      "execution_count": null,
      "outputs": []
    },
    {
      "cell_type": "code",
      "source": [
        "torch.save(model.state_dict(), '/content/model_weights.pth')"
      ],
      "metadata": {
        "id": "4VLNzbd3W3EU"
      },
      "execution_count": null,
      "outputs": []
    },
    {
      "cell_type": "markdown",
      "source": [
        "### **5.5. Evaluate the model**"
      ],
      "metadata": {
        "id": "6g0DxXdbRVtO"
      }
    },
    {
      "cell_type": "markdown",
      "source": [
        "#### **5.5.1. Compute the average loss on test data**"
      ],
      "metadata": {
        "id": "GjwcQV4xMQx1"
      }
    },
    {
      "cell_type": "code",
      "source": [
        "model.eval()\n",
        "total_mse_loss = 0.0\n",
        "total_mae_loss = 0.0\n",
        "\n",
        "with torch.no_grad():\n",
        "  for data, target in zip(test_data, test_targets):\n",
        "    data = data.to(device)\n",
        "    target = target.to(device)\n",
        "    outputs = model(data)\n",
        "\n",
        "    if target.dim() == 0:\n",
        "        target = target.expand_as(outputs)\n",
        "\n",
        "    mse_loss = F.mse_loss(outputs, target)\n",
        "    mae_loss = F.l1_loss(outputs, target)\n",
        "\n",
        "    total_mse_loss += mse_loss.item()\n",
        "    total_mae_loss += mae_loss.item()\n",
        "\n",
        "  avg_mse_loss = total_mse_loss / len(test_data)\n",
        "  avg_mae_loss = total_mae_loss / len(test_data)\n",
        "  print(f\"Average MSE Loss on Test Data: {avg_mse_loss}\")\n",
        "  print(f\"Average MAE Loss on Test Data: {avg_mae_loss}\")"
      ],
      "metadata": {
        "id": "VDHk4Tv_RZO6"
      },
      "execution_count": null,
      "outputs": []
    },
    {
      "cell_type": "markdown",
      "source": [
        "#### **5.5.2. Display the predicted solubility vs ground truth**"
      ],
      "metadata": {
        "id": "aHxh5dXSMb-G"
      }
    },
    {
      "cell_type": "code",
      "source": [
        "# Get predicted solubility values for test data\n",
        "predicted_solubilities = []\n",
        "with torch.no_grad():\n",
        "    for data in test_data:\n",
        "        outputs = model(data)\n",
        "        predicted_solubilities.append(outputs.item())\n",
        "\n",
        "# Convert predicted and actual solubility values to NumPy arrays for plotting\n",
        "predicted_solubilities = np.array(predicted_solubilities)\n",
        "actual_solubilities = test_targets.numpy()\n",
        "\n",
        "# Plot\n",
        "plt.figure(figsize=(8, 6))\n",
        "plt.scatter(actual_solubilities, predicted_solubilities, color='blue', s=15)\n",
        "plt.title('Predicted Solubility vs Actual Solubility')\n",
        "plt.xlabel('Actual Solubility')\n",
        "plt.ylabel('Predicted Solubility')\n",
        "\n",
        "plt.plot(actual_solubilities, actual_solubilities, color='gray', linestyle='--')\n",
        "\n",
        "plt.grid(False)\n",
        "plt.show()"
      ],
      "metadata": {
        "id": "PHoJzwU7uLLP"
      },
      "execution_count": null,
      "outputs": []
    },
    {
      "cell_type": "markdown",
      "source": [
        "#### **5.5.3. Results of the previous paper**"
      ],
      "metadata": {
        "id": "p0OOuv5OOPyM"
      }
    },
    {
      "cell_type": "markdown",
      "source": [
        "##### **Average Loss**"
      ],
      "metadata": {
        "id": "3eJLtFfnOjKi"
      }
    },
    {
      "cell_type": "code",
      "source": [
        "predicted_solubility = sol['ESOL predicted log(solubility:mol/L)']\n",
        "measured_solubility = sol['measured log(solubility:mol/L)']\n",
        "\n",
        "mse_loss = mean_squared_error(measured_solubility, predicted_solubility)\n",
        "mae_loss = mean_absolute_error(measured_solubility, predicted_solubility)\n",
        "\n",
        "print(\"Mean Squared Error (MSE):\", mse_loss)\n",
        "print(\"Mean Absolute Error (MAE):\", mae_loss)"
      ],
      "metadata": {
        "id": "Lm0l2nAtODSU"
      },
      "execution_count": null,
      "outputs": []
    },
    {
      "cell_type": "markdown",
      "source": [
        "##### **Predicted solubility vs ground truth**"
      ],
      "metadata": {
        "id": "5C8hVceoOrEH"
      }
    },
    {
      "cell_type": "code",
      "source": [
        "plt.figure(figsize=(8, 6))\n",
        "plt.scatter(measured_solubility, predicted_solubility, color='red', alpha=0.5, s=15)\n",
        "plt.title('Predicted Solubility vs Measured Solubility')\n",
        "plt.xlabel('Measured Solubility (log(mol/L))')\n",
        "plt.ylabel('Predicted Solubility (log(mol/L))')\n",
        "\n",
        "plt.plot(actual_solubilities, actual_solubilities, color='gray', linestyle='--')\n",
        "\n",
        "plt.grid(False)\n",
        "plt.show()"
      ],
      "metadata": {
        "id": "36qJK90oJflT"
      },
      "execution_count": null,
      "outputs": []
    }
  ]
}