{
  "nbformat": 4,
  "nbformat_minor": 0,
  "metadata": {
    "colab": {
      "provenance": [],
      "collapsed_sections": [
        "7jh_l0g4aLB-",
        "QD7jZcaGZ7m9",
        "U7_WYIhVL8Qc",
        "uxDbZAs1Olx7",
        "_CBTdZCjCURc",
        "EyPtDYj6Yz64",
        "iD_6apg8kYDy",
        "olyPX1TjQMvr",
        "k4fqhekzCB-X",
        "3ZKZKPOuCVTY",
        "zZI9k4h6FsPF",
        "SzrfuUZNFg_X",
        "q5xkbeIMeSaL"
      ],
      "machine_shape": "hm",
      "gpuType": "T4",
      "toc_visible": true,
      "mount_file_id": "1-in7CBXdKP2JlvTDjbB-XTJ-uNqcEFpf",
      "authorship_tag": "ABX9TyPZ+ccbZa/xCxqtdNwIIJY6",
      "include_colab_link": true
    },
    "kernelspec": {
      "name": "python3",
      "display_name": "Python 3"
    },
    "language_info": {
      "name": "python"
    },
    "accelerator": "GPU"
  },
  "cells": [
    {
      "cell_type": "markdown",
      "metadata": {
        "id": "view-in-github",
        "colab_type": "text"
      },
      "source": [
        "<a href=\"https://colab.research.google.com/github/gaellequillaud/Molecular_Property_Prediction_GNN/blob/main/Molecular_Property_Prediction_GNN.ipynb\" target=\"_parent\"><img src=\"https://colab.research.google.com/assets/colab-badge.svg\" alt=\"Open In Colab\"/></a>"
      ]
    },
    {
      "cell_type": "markdown",
      "source": [
        "# **Molecular Property Prediction Using Graph Neural Networks**\n"
      ],
      "metadata": {
        "id": "7jh_l0g4aLB-"
      }
    },
    {
      "cell_type": "markdown",
      "source": [
        "## **1. Install RDkit and PyTorch Geometric**\n",
        "\n"
      ],
      "metadata": {
        "id": "QD7jZcaGZ7m9"
      }
    },
    {
      "cell_type": "code",
      "source": [
        "! pip install rdkit\n",
        "! pip install torch_geometric"
      ],
      "metadata": {
        "id": "-Sl9LsyqYyzN",
        "colab": {
          "base_uri": "https://localhost:8080/"
        },
        "outputId": "1c793c21-a654-4c9c-c254-961d60467810"
      },
      "execution_count": 2,
      "outputs": [
        {
          "output_type": "stream",
          "name": "stdout",
          "text": [
            "Collecting rdkit\n",
            "  Downloading rdkit-2023.9.5-cp310-cp310-manylinux_2_17_x86_64.manylinux2014_x86_64.whl (34.4 MB)\n",
            "\u001b[2K     \u001b[90m━━━━━━━━━━━━━━━━━━━━━━━━━━━━━━━━━━━━━━━━\u001b[0m \u001b[32m34.4/34.4 MB\u001b[0m \u001b[31m50.9 MB/s\u001b[0m eta \u001b[36m0:00:00\u001b[0m\n",
            "\u001b[?25hRequirement already satisfied: numpy in /usr/local/lib/python3.10/dist-packages (from rdkit) (1.25.2)\n",
            "Requirement already satisfied: Pillow in /usr/local/lib/python3.10/dist-packages (from rdkit) (9.4.0)\n",
            "Installing collected packages: rdkit\n",
            "Successfully installed rdkit-2023.9.5\n",
            "Collecting torch_geometric\n",
            "  Downloading torch_geometric-2.5.2-py3-none-any.whl (1.1 MB)\n",
            "\u001b[2K     \u001b[90m━━━━━━━━━━━━━━━━━━━━━━━━━━━━━━━━━━━━━━━━\u001b[0m \u001b[32m1.1/1.1 MB\u001b[0m \u001b[31m18.1 MB/s\u001b[0m eta \u001b[36m0:00:00\u001b[0m\n",
            "\u001b[?25hRequirement already satisfied: tqdm in /usr/local/lib/python3.10/dist-packages (from torch_geometric) (4.66.2)\n",
            "Requirement already satisfied: numpy in /usr/local/lib/python3.10/dist-packages (from torch_geometric) (1.25.2)\n",
            "Requirement already satisfied: scipy in /usr/local/lib/python3.10/dist-packages (from torch_geometric) (1.11.4)\n",
            "Requirement already satisfied: fsspec in /usr/local/lib/python3.10/dist-packages (from torch_geometric) (2023.6.0)\n",
            "Requirement already satisfied: jinja2 in /usr/local/lib/python3.10/dist-packages (from torch_geometric) (3.1.3)\n",
            "Requirement already satisfied: aiohttp in /usr/local/lib/python3.10/dist-packages (from torch_geometric) (3.9.3)\n",
            "Requirement already satisfied: requests in /usr/local/lib/python3.10/dist-packages (from torch_geometric) (2.31.0)\n",
            "Requirement already satisfied: pyparsing in /usr/local/lib/python3.10/dist-packages (from torch_geometric) (3.1.2)\n",
            "Requirement already satisfied: scikit-learn in /usr/local/lib/python3.10/dist-packages (from torch_geometric) (1.2.2)\n",
            "Requirement already satisfied: psutil>=5.8.0 in /usr/local/lib/python3.10/dist-packages (from torch_geometric) (5.9.5)\n",
            "Requirement already satisfied: aiosignal>=1.1.2 in /usr/local/lib/python3.10/dist-packages (from aiohttp->torch_geometric) (1.3.1)\n",
            "Requirement already satisfied: attrs>=17.3.0 in /usr/local/lib/python3.10/dist-packages (from aiohttp->torch_geometric) (23.2.0)\n",
            "Requirement already satisfied: frozenlist>=1.1.1 in /usr/local/lib/python3.10/dist-packages (from aiohttp->torch_geometric) (1.4.1)\n",
            "Requirement already satisfied: multidict<7.0,>=4.5 in /usr/local/lib/python3.10/dist-packages (from aiohttp->torch_geometric) (6.0.5)\n",
            "Requirement already satisfied: yarl<2.0,>=1.0 in /usr/local/lib/python3.10/dist-packages (from aiohttp->torch_geometric) (1.9.4)\n",
            "Requirement already satisfied: async-timeout<5.0,>=4.0 in /usr/local/lib/python3.10/dist-packages (from aiohttp->torch_geometric) (4.0.3)\n",
            "Requirement already satisfied: MarkupSafe>=2.0 in /usr/local/lib/python3.10/dist-packages (from jinja2->torch_geometric) (2.1.5)\n",
            "Requirement already satisfied: charset-normalizer<4,>=2 in /usr/local/lib/python3.10/dist-packages (from requests->torch_geometric) (3.3.2)\n",
            "Requirement already satisfied: idna<4,>=2.5 in /usr/local/lib/python3.10/dist-packages (from requests->torch_geometric) (3.6)\n",
            "Requirement already satisfied: urllib3<3,>=1.21.1 in /usr/local/lib/python3.10/dist-packages (from requests->torch_geometric) (2.0.7)\n",
            "Requirement already satisfied: certifi>=2017.4.17 in /usr/local/lib/python3.10/dist-packages (from requests->torch_geometric) (2024.2.2)\n",
            "Requirement already satisfied: joblib>=1.1.1 in /usr/local/lib/python3.10/dist-packages (from scikit-learn->torch_geometric) (1.4.0)\n",
            "Requirement already satisfied: threadpoolctl>=2.0.0 in /usr/local/lib/python3.10/dist-packages (from scikit-learn->torch_geometric) (3.4.0)\n",
            "Installing collected packages: torch_geometric\n",
            "Successfully installed torch_geometric-2.5.2\n"
          ]
        }
      ]
    },
    {
      "cell_type": "markdown",
      "source": [
        "---"
      ],
      "metadata": {
        "id": "-FxJYuOzd569"
      }
    },
    {
      "cell_type": "markdown",
      "metadata": {
        "id": "H661uGwCNFMC"
      },
      "source": [
        "## **2. Solubility dataset**\n",
        "\n",
        "The original [Delaney's dataset](https://pubs.acs.org/doi/suppl/10.1021/ci034243x/suppl_file/ci034243xsi20040112_053635.txt). The full paper is entitled [ESOL:  Estimating Aqueous Solubility Directly from Molecular Structure](https://pubs.acs.org/doi/10.1021/ci034243x).$^1$"
      ]
    },
    {
      "cell_type": "markdown",
      "metadata": {
        "id": "s6o9QzQnNRVx"
      },
      "source": [
        "### **2.1. Download the dataset**"
      ]
    },
    {
      "cell_type": "code",
      "source": [
        "! wget https://pubs.acs.org/doi/suppl/10.1021/ci034243x/suppl_file/ci034243xsi20040112_053635.txt"
      ],
      "metadata": {
        "id": "E8J-iYTGUCqb",
        "colab": {
          "base_uri": "https://localhost:8080/"
        },
        "outputId": "3c7a8ca1-61e0-463a-ab32-b1eeb8af1f2a"
      },
      "execution_count": 3,
      "outputs": [
        {
          "output_type": "stream",
          "name": "stdout",
          "text": [
            "--2024-04-14 19:47:53--  https://pubs.acs.org/doi/suppl/10.1021/ci034243x/suppl_file/ci034243xsi20040112_053635.txt\n",
            "Resolving pubs.acs.org (pubs.acs.org)... 172.64.153.22, 104.18.34.234\n",
            "Connecting to pubs.acs.org (pubs.acs.org)|172.64.153.22|:443... connected.\n",
            "HTTP request sent, awaiting response... 403 Forbidden\n",
            "2024-04-14 19:47:53 ERROR 403: Forbidden.\n",
            "\n"
          ]
        }
      ]
    },
    {
      "cell_type": "markdown",
      "source": [
        "If the previous link doesn't work, use :"
      ],
      "metadata": {
        "id": "nHb8kUyEXUHh"
      }
    },
    {
      "cell_type": "code",
      "source": [
        "! wget https://raw.githubusercontent.com/gaellequillaud/Molecular_Property_Prediction_GNN/main/delaney.csv"
      ],
      "metadata": {
        "id": "c460qit_XP7z",
        "colab": {
          "base_uri": "https://localhost:8080/"
        },
        "outputId": "d6d696b5-d75e-42f2-905c-aad60407925d"
      },
      "execution_count": 4,
      "outputs": [
        {
          "output_type": "stream",
          "name": "stdout",
          "text": [
            "--2024-04-14 19:47:53--  https://raw.githubusercontent.com/gaellequillaud/Molecular_Property_Prediction_GNN/main/delaney.csv\n",
            "Resolving raw.githubusercontent.com (raw.githubusercontent.com)... 185.199.108.133, 185.199.109.133, 185.199.110.133, ...\n",
            "Connecting to raw.githubusercontent.com (raw.githubusercontent.com)|185.199.108.133|:443... connected.\n",
            "HTTP request sent, awaiting response... 200 OK\n",
            "Length: 58888 (58K) [text/plain]\n",
            "Saving to: ‘delaney.csv’\n",
            "\n",
            "delaney.csv         100%[===================>]  57.51K  --.-KB/s    in 0.001s  \n",
            "\n",
            "2024-04-14 19:47:53 (55.0 MB/s) - ‘delaney.csv’ saved [58888/58888]\n",
            "\n"
          ]
        }
      ]
    },
    {
      "cell_type": "markdown",
      "source": [
        "### **2.2. Read in the dataset**"
      ],
      "metadata": {
        "id": "iCM1eMvjUoRm"
      }
    },
    {
      "cell_type": "code",
      "metadata": {
        "id": "0ufiOpEbNooH"
      },
      "source": [
        "import pandas as pd"
      ],
      "execution_count": 5,
      "outputs": []
    },
    {
      "cell_type": "code",
      "source": [
        "sol = pd.read_csv('delaney.csv')\n",
        "sol"
      ],
      "metadata": {
        "colab": {
          "base_uri": "https://localhost:8080/",
          "height": 510
        },
        "id": "RT6T0Ds-VCAc",
        "outputId": "ae52cdb2-bee7-4b2d-cde7-3ad5f7ed46c9"
      },
      "execution_count": 6,
      "outputs": [
        {
          "output_type": "execute_result",
          "data": {
            "text/plain": [
              "                         Compound ID  measured log(solubility:mol/L)  \\\n",
              "0          1,1,1,2-Tetrachloroethane                          -2.180   \n",
              "1              1,1,1-Trichloroethane                          -2.000   \n",
              "2          1,1,2,2-Tetrachloroethane                          -1.740   \n",
              "3              1,1,2-Trichloroethane                          -1.480   \n",
              "4     1,1,2-Trichlorotrifluoroethane                          -3.040   \n",
              "...                              ...                             ...   \n",
              "1139                     vamidothion                           1.144   \n",
              "1140                     Vinclozolin                          -4.925   \n",
              "1141                        Warfarin                          -3.893   \n",
              "1142                        Xipamide                          -3.790   \n",
              "1143                             XMC                          -2.581   \n",
              "\n",
              "      ESOL predicted log(solubility:mol/L)  \\\n",
              "0                                   -2.794   \n",
              "1                                   -2.232   \n",
              "2                                   -2.549   \n",
              "3                                   -1.961   \n",
              "4                                   -3.077   \n",
              "...                                    ...   \n",
              "1139                                -1.446   \n",
              "1140                                -4.377   \n",
              "1141                                -3.913   \n",
              "1142                                -3.642   \n",
              "1143                                -2.688   \n",
              "\n",
              "                                           SMILES  \n",
              "0                                  ClCC(Cl)(Cl)Cl  \n",
              "1                                    CC(Cl)(Cl)Cl  \n",
              "2                                  ClC(Cl)C(Cl)Cl  \n",
              "3                                      ClCC(Cl)Cl  \n",
              "4                             FC(F)(Cl)C(F)(Cl)Cl  \n",
              "...                                           ...  \n",
              "1139                 CNC(=O)C(C)SCCSP(=O)(OC)(OC)  \n",
              "1140        CC1(OC(=O)N(C1=O)c2cc(Cl)cc(Cl)c2)C=C  \n",
              "1141       CC(=O)CC(c1ccccc1)c3c(O)c2ccccc2oc3=O   \n",
              "1142  Cc1cccc(C)c1NC(=O)c2cc(c(Cl)cc2O)S(N)(=O)=O  \n",
              "1143                       CNC(=O)Oc1cc(C)cc(C)c1  \n",
              "\n",
              "[1144 rows x 4 columns]"
            ],
            "text/html": [
              "\n",
              "  <div id=\"df-5860511d-4ef0-473d-a488-98d4349c4b29\" class=\"colab-df-container\">\n",
              "    <div>\n",
              "<style scoped>\n",
              "    .dataframe tbody tr th:only-of-type {\n",
              "        vertical-align: middle;\n",
              "    }\n",
              "\n",
              "    .dataframe tbody tr th {\n",
              "        vertical-align: top;\n",
              "    }\n",
              "\n",
              "    .dataframe thead th {\n",
              "        text-align: right;\n",
              "    }\n",
              "</style>\n",
              "<table border=\"1\" class=\"dataframe\">\n",
              "  <thead>\n",
              "    <tr style=\"text-align: right;\">\n",
              "      <th></th>\n",
              "      <th>Compound ID</th>\n",
              "      <th>measured log(solubility:mol/L)</th>\n",
              "      <th>ESOL predicted log(solubility:mol/L)</th>\n",
              "      <th>SMILES</th>\n",
              "    </tr>\n",
              "  </thead>\n",
              "  <tbody>\n",
              "    <tr>\n",
              "      <th>0</th>\n",
              "      <td>1,1,1,2-Tetrachloroethane</td>\n",
              "      <td>-2.180</td>\n",
              "      <td>-2.794</td>\n",
              "      <td>ClCC(Cl)(Cl)Cl</td>\n",
              "    </tr>\n",
              "    <tr>\n",
              "      <th>1</th>\n",
              "      <td>1,1,1-Trichloroethane</td>\n",
              "      <td>-2.000</td>\n",
              "      <td>-2.232</td>\n",
              "      <td>CC(Cl)(Cl)Cl</td>\n",
              "    </tr>\n",
              "    <tr>\n",
              "      <th>2</th>\n",
              "      <td>1,1,2,2-Tetrachloroethane</td>\n",
              "      <td>-1.740</td>\n",
              "      <td>-2.549</td>\n",
              "      <td>ClC(Cl)C(Cl)Cl</td>\n",
              "    </tr>\n",
              "    <tr>\n",
              "      <th>3</th>\n",
              "      <td>1,1,2-Trichloroethane</td>\n",
              "      <td>-1.480</td>\n",
              "      <td>-1.961</td>\n",
              "      <td>ClCC(Cl)Cl</td>\n",
              "    </tr>\n",
              "    <tr>\n",
              "      <th>4</th>\n",
              "      <td>1,1,2-Trichlorotrifluoroethane</td>\n",
              "      <td>-3.040</td>\n",
              "      <td>-3.077</td>\n",
              "      <td>FC(F)(Cl)C(F)(Cl)Cl</td>\n",
              "    </tr>\n",
              "    <tr>\n",
              "      <th>...</th>\n",
              "      <td>...</td>\n",
              "      <td>...</td>\n",
              "      <td>...</td>\n",
              "      <td>...</td>\n",
              "    </tr>\n",
              "    <tr>\n",
              "      <th>1139</th>\n",
              "      <td>vamidothion</td>\n",
              "      <td>1.144</td>\n",
              "      <td>-1.446</td>\n",
              "      <td>CNC(=O)C(C)SCCSP(=O)(OC)(OC)</td>\n",
              "    </tr>\n",
              "    <tr>\n",
              "      <th>1140</th>\n",
              "      <td>Vinclozolin</td>\n",
              "      <td>-4.925</td>\n",
              "      <td>-4.377</td>\n",
              "      <td>CC1(OC(=O)N(C1=O)c2cc(Cl)cc(Cl)c2)C=C</td>\n",
              "    </tr>\n",
              "    <tr>\n",
              "      <th>1141</th>\n",
              "      <td>Warfarin</td>\n",
              "      <td>-3.893</td>\n",
              "      <td>-3.913</td>\n",
              "      <td>CC(=O)CC(c1ccccc1)c3c(O)c2ccccc2oc3=O</td>\n",
              "    </tr>\n",
              "    <tr>\n",
              "      <th>1142</th>\n",
              "      <td>Xipamide</td>\n",
              "      <td>-3.790</td>\n",
              "      <td>-3.642</td>\n",
              "      <td>Cc1cccc(C)c1NC(=O)c2cc(c(Cl)cc2O)S(N)(=O)=O</td>\n",
              "    </tr>\n",
              "    <tr>\n",
              "      <th>1143</th>\n",
              "      <td>XMC</td>\n",
              "      <td>-2.581</td>\n",
              "      <td>-2.688</td>\n",
              "      <td>CNC(=O)Oc1cc(C)cc(C)c1</td>\n",
              "    </tr>\n",
              "  </tbody>\n",
              "</table>\n",
              "<p>1144 rows × 4 columns</p>\n",
              "</div>\n",
              "    <div class=\"colab-df-buttons\">\n",
              "\n",
              "  <div class=\"colab-df-container\">\n",
              "    <button class=\"colab-df-convert\" onclick=\"convertToInteractive('df-5860511d-4ef0-473d-a488-98d4349c4b29')\"\n",
              "            title=\"Convert this dataframe to an interactive table.\"\n",
              "            style=\"display:none;\">\n",
              "\n",
              "  <svg xmlns=\"http://www.w3.org/2000/svg\" height=\"24px\" viewBox=\"0 -960 960 960\">\n",
              "    <path d=\"M120-120v-720h720v720H120Zm60-500h600v-160H180v160Zm220 220h160v-160H400v160Zm0 220h160v-160H400v160ZM180-400h160v-160H180v160Zm440 0h160v-160H620v160ZM180-180h160v-160H180v160Zm440 0h160v-160H620v160Z\"/>\n",
              "  </svg>\n",
              "    </button>\n",
              "\n",
              "  <style>\n",
              "    .colab-df-container {\n",
              "      display:flex;\n",
              "      gap: 12px;\n",
              "    }\n",
              "\n",
              "    .colab-df-convert {\n",
              "      background-color: #E8F0FE;\n",
              "      border: none;\n",
              "      border-radius: 50%;\n",
              "      cursor: pointer;\n",
              "      display: none;\n",
              "      fill: #1967D2;\n",
              "      height: 32px;\n",
              "      padding: 0 0 0 0;\n",
              "      width: 32px;\n",
              "    }\n",
              "\n",
              "    .colab-df-convert:hover {\n",
              "      background-color: #E2EBFA;\n",
              "      box-shadow: 0px 1px 2px rgba(60, 64, 67, 0.3), 0px 1px 3px 1px rgba(60, 64, 67, 0.15);\n",
              "      fill: #174EA6;\n",
              "    }\n",
              "\n",
              "    .colab-df-buttons div {\n",
              "      margin-bottom: 4px;\n",
              "    }\n",
              "\n",
              "    [theme=dark] .colab-df-convert {\n",
              "      background-color: #3B4455;\n",
              "      fill: #D2E3FC;\n",
              "    }\n",
              "\n",
              "    [theme=dark] .colab-df-convert:hover {\n",
              "      background-color: #434B5C;\n",
              "      box-shadow: 0px 1px 3px 1px rgba(0, 0, 0, 0.15);\n",
              "      filter: drop-shadow(0px 1px 2px rgba(0, 0, 0, 0.3));\n",
              "      fill: #FFFFFF;\n",
              "    }\n",
              "  </style>\n",
              "\n",
              "    <script>\n",
              "      const buttonEl =\n",
              "        document.querySelector('#df-5860511d-4ef0-473d-a488-98d4349c4b29 button.colab-df-convert');\n",
              "      buttonEl.style.display =\n",
              "        google.colab.kernel.accessAllowed ? 'block' : 'none';\n",
              "\n",
              "      async function convertToInteractive(key) {\n",
              "        const element = document.querySelector('#df-5860511d-4ef0-473d-a488-98d4349c4b29');\n",
              "        const dataTable =\n",
              "          await google.colab.kernel.invokeFunction('convertToInteractive',\n",
              "                                                    [key], {});\n",
              "        if (!dataTable) return;\n",
              "\n",
              "        const docLinkHtml = 'Like what you see? Visit the ' +\n",
              "          '<a target=\"_blank\" href=https://colab.research.google.com/notebooks/data_table.ipynb>data table notebook</a>'\n",
              "          + ' to learn more about interactive tables.';\n",
              "        element.innerHTML = '';\n",
              "        dataTable['output_type'] = 'display_data';\n",
              "        await google.colab.output.renderOutput(dataTable, element);\n",
              "        const docLink = document.createElement('div');\n",
              "        docLink.innerHTML = docLinkHtml;\n",
              "        element.appendChild(docLink);\n",
              "      }\n",
              "    </script>\n",
              "  </div>\n",
              "\n",
              "\n",
              "<div id=\"df-9ec3188b-0e33-476d-87aa-36cbfbf6ef40\">\n",
              "  <button class=\"colab-df-quickchart\" onclick=\"quickchart('df-9ec3188b-0e33-476d-87aa-36cbfbf6ef40')\"\n",
              "            title=\"Suggest charts\"\n",
              "            style=\"display:none;\">\n",
              "\n",
              "<svg xmlns=\"http://www.w3.org/2000/svg\" height=\"24px\"viewBox=\"0 0 24 24\"\n",
              "     width=\"24px\">\n",
              "    <g>\n",
              "        <path d=\"M19 3H5c-1.1 0-2 .9-2 2v14c0 1.1.9 2 2 2h14c1.1 0 2-.9 2-2V5c0-1.1-.9-2-2-2zM9 17H7v-7h2v7zm4 0h-2V7h2v10zm4 0h-2v-4h2v4z\"/>\n",
              "    </g>\n",
              "</svg>\n",
              "  </button>\n",
              "\n",
              "<style>\n",
              "  .colab-df-quickchart {\n",
              "      --bg-color: #E8F0FE;\n",
              "      --fill-color: #1967D2;\n",
              "      --hover-bg-color: #E2EBFA;\n",
              "      --hover-fill-color: #174EA6;\n",
              "      --disabled-fill-color: #AAA;\n",
              "      --disabled-bg-color: #DDD;\n",
              "  }\n",
              "\n",
              "  [theme=dark] .colab-df-quickchart {\n",
              "      --bg-color: #3B4455;\n",
              "      --fill-color: #D2E3FC;\n",
              "      --hover-bg-color: #434B5C;\n",
              "      --hover-fill-color: #FFFFFF;\n",
              "      --disabled-bg-color: #3B4455;\n",
              "      --disabled-fill-color: #666;\n",
              "  }\n",
              "\n",
              "  .colab-df-quickchart {\n",
              "    background-color: var(--bg-color);\n",
              "    border: none;\n",
              "    border-radius: 50%;\n",
              "    cursor: pointer;\n",
              "    display: none;\n",
              "    fill: var(--fill-color);\n",
              "    height: 32px;\n",
              "    padding: 0;\n",
              "    width: 32px;\n",
              "  }\n",
              "\n",
              "  .colab-df-quickchart:hover {\n",
              "    background-color: var(--hover-bg-color);\n",
              "    box-shadow: 0 1px 2px rgba(60, 64, 67, 0.3), 0 1px 3px 1px rgba(60, 64, 67, 0.15);\n",
              "    fill: var(--button-hover-fill-color);\n",
              "  }\n",
              "\n",
              "  .colab-df-quickchart-complete:disabled,\n",
              "  .colab-df-quickchart-complete:disabled:hover {\n",
              "    background-color: var(--disabled-bg-color);\n",
              "    fill: var(--disabled-fill-color);\n",
              "    box-shadow: none;\n",
              "  }\n",
              "\n",
              "  .colab-df-spinner {\n",
              "    border: 2px solid var(--fill-color);\n",
              "    border-color: transparent;\n",
              "    border-bottom-color: var(--fill-color);\n",
              "    animation:\n",
              "      spin 1s steps(1) infinite;\n",
              "  }\n",
              "\n",
              "  @keyframes spin {\n",
              "    0% {\n",
              "      border-color: transparent;\n",
              "      border-bottom-color: var(--fill-color);\n",
              "      border-left-color: var(--fill-color);\n",
              "    }\n",
              "    20% {\n",
              "      border-color: transparent;\n",
              "      border-left-color: var(--fill-color);\n",
              "      border-top-color: var(--fill-color);\n",
              "    }\n",
              "    30% {\n",
              "      border-color: transparent;\n",
              "      border-left-color: var(--fill-color);\n",
              "      border-top-color: var(--fill-color);\n",
              "      border-right-color: var(--fill-color);\n",
              "    }\n",
              "    40% {\n",
              "      border-color: transparent;\n",
              "      border-right-color: var(--fill-color);\n",
              "      border-top-color: var(--fill-color);\n",
              "    }\n",
              "    60% {\n",
              "      border-color: transparent;\n",
              "      border-right-color: var(--fill-color);\n",
              "    }\n",
              "    80% {\n",
              "      border-color: transparent;\n",
              "      border-right-color: var(--fill-color);\n",
              "      border-bottom-color: var(--fill-color);\n",
              "    }\n",
              "    90% {\n",
              "      border-color: transparent;\n",
              "      border-bottom-color: var(--fill-color);\n",
              "    }\n",
              "  }\n",
              "</style>\n",
              "\n",
              "  <script>\n",
              "    async function quickchart(key) {\n",
              "      const quickchartButtonEl =\n",
              "        document.querySelector('#' + key + ' button');\n",
              "      quickchartButtonEl.disabled = true;  // To prevent multiple clicks.\n",
              "      quickchartButtonEl.classList.add('colab-df-spinner');\n",
              "      try {\n",
              "        const charts = await google.colab.kernel.invokeFunction(\n",
              "            'suggestCharts', [key], {});\n",
              "      } catch (error) {\n",
              "        console.error('Error during call to suggestCharts:', error);\n",
              "      }\n",
              "      quickchartButtonEl.classList.remove('colab-df-spinner');\n",
              "      quickchartButtonEl.classList.add('colab-df-quickchart-complete');\n",
              "    }\n",
              "    (() => {\n",
              "      let quickchartButtonEl =\n",
              "        document.querySelector('#df-9ec3188b-0e33-476d-87aa-36cbfbf6ef40 button');\n",
              "      quickchartButtonEl.style.display =\n",
              "        google.colab.kernel.accessAllowed ? 'block' : 'none';\n",
              "    })();\n",
              "  </script>\n",
              "</div>\n",
              "\n",
              "  <div id=\"id_e7e35869-7964-44dc-8b5f-16f526dda0d9\">\n",
              "    <style>\n",
              "      .colab-df-generate {\n",
              "        background-color: #E8F0FE;\n",
              "        border: none;\n",
              "        border-radius: 50%;\n",
              "        cursor: pointer;\n",
              "        display: none;\n",
              "        fill: #1967D2;\n",
              "        height: 32px;\n",
              "        padding: 0 0 0 0;\n",
              "        width: 32px;\n",
              "      }\n",
              "\n",
              "      .colab-df-generate:hover {\n",
              "        background-color: #E2EBFA;\n",
              "        box-shadow: 0px 1px 2px rgba(60, 64, 67, 0.3), 0px 1px 3px 1px rgba(60, 64, 67, 0.15);\n",
              "        fill: #174EA6;\n",
              "      }\n",
              "\n",
              "      [theme=dark] .colab-df-generate {\n",
              "        background-color: #3B4455;\n",
              "        fill: #D2E3FC;\n",
              "      }\n",
              "\n",
              "      [theme=dark] .colab-df-generate:hover {\n",
              "        background-color: #434B5C;\n",
              "        box-shadow: 0px 1px 3px 1px rgba(0, 0, 0, 0.15);\n",
              "        filter: drop-shadow(0px 1px 2px rgba(0, 0, 0, 0.3));\n",
              "        fill: #FFFFFF;\n",
              "      }\n",
              "    </style>\n",
              "    <button class=\"colab-df-generate\" onclick=\"generateWithVariable('sol')\"\n",
              "            title=\"Generate code using this dataframe.\"\n",
              "            style=\"display:none;\">\n",
              "\n",
              "  <svg xmlns=\"http://www.w3.org/2000/svg\" height=\"24px\"viewBox=\"0 0 24 24\"\n",
              "       width=\"24px\">\n",
              "    <path d=\"M7,19H8.4L18.45,9,17,7.55,7,17.6ZM5,21V16.75L18.45,3.32a2,2,0,0,1,2.83,0l1.4,1.43a1.91,1.91,0,0,1,.58,1.4,1.91,1.91,0,0,1-.58,1.4L9.25,21ZM18.45,9,17,7.55Zm-12,3A5.31,5.31,0,0,0,4.9,8.1,5.31,5.31,0,0,0,1,6.5,5.31,5.31,0,0,0,4.9,4.9,5.31,5.31,0,0,0,6.5,1,5.31,5.31,0,0,0,8.1,4.9,5.31,5.31,0,0,0,12,6.5,5.46,5.46,0,0,0,6.5,12Z\"/>\n",
              "  </svg>\n",
              "    </button>\n",
              "    <script>\n",
              "      (() => {\n",
              "      const buttonEl =\n",
              "        document.querySelector('#id_e7e35869-7964-44dc-8b5f-16f526dda0d9 button.colab-df-generate');\n",
              "      buttonEl.style.display =\n",
              "        google.colab.kernel.accessAllowed ? 'block' : 'none';\n",
              "\n",
              "      buttonEl.onclick = () => {\n",
              "        google.colab.notebook.generateWithVariable('sol');\n",
              "      }\n",
              "      })();\n",
              "    </script>\n",
              "  </div>\n",
              "\n",
              "    </div>\n",
              "  </div>\n"
            ],
            "application/vnd.google.colaboratory.intrinsic+json": {
              "type": "dataframe",
              "variable_name": "sol",
              "summary": "{\n  \"name\": \"sol\",\n  \"rows\": 1144,\n  \"fields\": [\n    {\n      \"column\": \"Compound ID\",\n      \"properties\": {\n        \"dtype\": \"string\",\n        \"num_unique_values\": 1143,\n        \"samples\": [\n          \"2,3,6-Trichlorophenol\",\n          \"tetrachloroguaiacol\",\n          \"3-Methyl-3-hexanol\"\n        ],\n        \"semantic_type\": \"\",\n        \"description\": \"\"\n      }\n    },\n    {\n      \"column\": \"measured log(solubility:mol/L)\",\n      \"properties\": {\n        \"dtype\": \"number\",\n        \"std\": 2.0965019290656026,\n        \"min\": -11.6,\n        \"max\": 1.58,\n        \"num_unique_values\": 743,\n        \"samples\": [\n          -1.7,\n          -6.62,\n          -3.324\n        ],\n        \"semantic_type\": \"\",\n        \"description\": \"\"\n      }\n    },\n    {\n      \"column\": \"ESOL predicted log(solubility:mol/L)\",\n      \"properties\": {\n        \"dtype\": \"number\",\n        \"std\": 1.6865201316927112,\n        \"min\": -9.702,\n        \"max\": 1.091,\n        \"num_unique_values\": 920,\n        \"samples\": [\n          -0.949,\n          -1.457,\n          -2.855\n        ],\n        \"semantic_type\": \"\",\n        \"description\": \"\"\n      }\n    },\n    {\n      \"column\": \"SMILES\",\n      \"properties\": {\n        \"dtype\": \"string\",\n        \"num_unique_values\": 1128,\n        \"samples\": [\n          \"CC(C)(C)Cc1ccccc1\",\n          \"CCCCC1C(=O)N(N(C1=O)c2ccc(O)cc2)c3ccccc3 \",\n          \"CCOP(=S)(OCC)Oc1nc(Cl)n(n1)C(C)C\"\n        ],\n        \"semantic_type\": \"\",\n        \"description\": \"\"\n      }\n    }\n  ]\n}"
            }
          },
          "metadata": {},
          "execution_count": 6
        }
      ]
    },
    {
      "cell_type": "code",
      "source": [
        "smiles_list = [smiles for smiles in sol.SMILES]"
      ],
      "metadata": {
        "id": "h2hWLyc6N6D2"
      },
      "execution_count": 7,
      "outputs": []
    },
    {
      "cell_type": "markdown",
      "source": [
        "Extract atom symbols from the datset"
      ],
      "metadata": {
        "id": "jGCh8jZKOqrh"
      }
    },
    {
      "cell_type": "code",
      "source": [
        "import re"
      ],
      "metadata": {
        "id": "tis2E_92O06u"
      },
      "execution_count": 8,
      "outputs": []
    },
    {
      "cell_type": "code",
      "source": [
        "atom_symbols = set()\n",
        "for compound in smiles_list:\n",
        "    symbols = re.findall('[A-Z][a-z]?', compound)\n",
        "    atom_symbols.update(symbols)\n",
        "\n",
        "atom_symbols_list = list(atom_symbols)"
      ],
      "metadata": {
        "id": "SplAFMEHOplP"
      },
      "execution_count": 9,
      "outputs": []
    },
    {
      "cell_type": "code",
      "source": [
        "atom_symbols_list"
      ],
      "metadata": {
        "colab": {
          "base_uri": "https://localhost:8080/"
        },
        "id": "KqDH45A9O5-H",
        "outputId": "2a5cb966-e4ee-4c5a-cf42-83c9fa081936"
      },
      "execution_count": 10,
      "outputs": [
        {
          "output_type": "execute_result",
          "data": {
            "text/plain": [
              "['N',\n",
              " 'Oc',\n",
              " 'S',\n",
              " 'I',\n",
              " 'Cn',\n",
              " 'Ic',\n",
              " 'H',\n",
              " 'F',\n",
              " 'Cc',\n",
              " 'Br',\n",
              " 'Fc',\n",
              " 'Cl',\n",
              " 'C',\n",
              " 'Nc',\n",
              " 'O',\n",
              " 'P',\n",
              " 'Sc']"
            ]
          },
          "metadata": {},
          "execution_count": 10
        }
      ]
    },
    {
      "cell_type": "markdown",
      "source": [
        "---"
      ],
      "metadata": {
        "id": "rzvB04-Od9xK"
      }
    },
    {
      "cell_type": "markdown",
      "source": [
        "## **3. Imports**"
      ],
      "metadata": {
        "id": "HBGDvb5SLYVF"
      }
    },
    {
      "cell_type": "code",
      "source": [
        "import numpy as np\n",
        "import pandas as pd\n",
        "import matplotlib.pyplot as plt\n",
        "import re\n",
        "import os\n",
        "\n",
        "from rdkit import Chem\n",
        "from rdkit.Chem import MolFromSmiles, rdmolops\n",
        "\n",
        "import torch\n",
        "import torch.nn as nn\n",
        "import torch.optim as optim\n",
        "import torch.nn.functional as F\n",
        "from sklearn.model_selection import train_test_split\n",
        "from torch_geometric.data import Data, DataLoader\n",
        "from torch_geometric.loader import DataLoader\n",
        "from torch_geometric.nn import GCNConv\n",
        "from torch_geometric.nn.dense import DenseGCNConv\n",
        "from torch_geometric.nn import global_max_pool as gmp\n",
        "\n",
        "import networkx as nx\n",
        "from sklearn.model_selection import train_test_split\n",
        "from sklearn.metrics import mean_squared_error, mean_absolute_error\n",
        "from tqdm.notebook import tqdm\n",
        "from scipy.sparse import coo_matrix"
      ],
      "metadata": {
        "id": "2Yc227ARL0jv"
      },
      "execution_count": 41,
      "outputs": []
    },
    {
      "cell_type": "markdown",
      "source": [
        "## **4. Data preparation**"
      ],
      "metadata": {
        "id": "U7_WYIhVL8Qc"
      }
    },
    {
      "cell_type": "markdown",
      "source": [
        "### **4.1. Atom and edge features**"
      ],
      "metadata": {
        "id": "85emcN2ZQA4b"
      }
    },
    {
      "cell_type": "code",
      "source": [
        "def atom_features(mol):\n",
        "  symbols = [\n",
        "    'Oc', 'I', 'H', 'Sc', 'Cc', 'C', 'Fc', 'Cl', 'Nc', 'Cn', 'S', 'P', 'Ic',\n",
        "    'O', 'Br', 'N', 'F'\n",
        "  ]\n",
        "\n",
        "  hybridizations = [\n",
        "    Chem.rdchem.HybridizationType.S,\n",
        "    Chem.rdchem.HybridizationType.SP,\n",
        "    Chem.rdchem.HybridizationType.SP2,\n",
        "    Chem.rdchem.HybridizationType.SP3,\n",
        "    Chem.rdchem.HybridizationType.SP3D,\n",
        "    Chem.rdchem.HybridizationType.SP3D2,\n",
        "    'other',\n",
        "  ]\n",
        "\n",
        "  XS = []\n",
        "  features = []\n",
        "\n",
        "  for atom in mol.GetAtoms():\n",
        "    # Symbol feature\n",
        "    symbol = [0.]*len(symbols)\n",
        "    symbol[symbols.index(atom.GetSymbol())] = 1.\n",
        "\n",
        "    # Degree feature\n",
        "    degree = [0.]*8\n",
        "    degree[atom.GetDegree()]=1.\n",
        "\n",
        "    # Charge feature\n",
        "    charge = atom.GetFormalCharge()\n",
        "\n",
        "    # Radical electrons feature??\n",
        "    radical_electrons = atom.GetNumRadicalElectrons()\n",
        "\n",
        "    # Hybridization feature\n",
        "    hybridization = [0.]*len(hybridizations)\n",
        "    hybridization[hybridizations.index(atom.GetHybridization())]=1.\n",
        "\n",
        "    # Aromaticity feature\n",
        "    if atom.GetIsAromatic():\n",
        "      aromaticity = 1.\n",
        "    else:\n",
        "      aromaticity = 0.\n",
        "\n",
        "    # Number of connected hydrogens feature\n",
        "    hydrogens = [0.]*5\n",
        "    hydrogens[atom.GetTotalNumHs()]=1.\n",
        "\n",
        "    # Chirality feature\n",
        "    if atom.HasProp('_ChiralityPossible'):\n",
        "      chirality = 1.\n",
        "    else:\n",
        "      chirality = 0.\n",
        "\n",
        "    chirality_type = [0.]*2\n",
        "    if atom.HasProp('_CIPCode'):\n",
        "      chirality_type[['R', 'S'].index(atom.GetProp('_CIPCode'))]=1.\n",
        "      print(chirality_type)\n",
        "\n",
        "    X = torch.tensor(symbol + degree + [charge] + [radical_electrons] +\n",
        "                     hybridization + [aromaticity] + hydrogens + [chirality] +\n",
        "                     chirality_type)\n",
        "    XS.append(X)\n",
        "    features = torch.stack(XS, dim=0)\n",
        "\n",
        "  return features"
      ],
      "metadata": {
        "id": "rDKQo4Fhl9G8"
      },
      "execution_count": 12,
      "outputs": []
    },
    {
      "cell_type": "code",
      "source": [
        "def edge_features(mol):\n",
        "  stereos = [\n",
        "    Chem.rdchem.BondStereo.STEREONONE,\n",
        "    Chem.rdchem.BondStereo.STEREOANY,\n",
        "    Chem.rdchem.BondStereo.STEREOZ,\n",
        "    Chem.rdchem.BondStereo.STEREOE,\n",
        "  ]\n",
        "\n",
        "  edge_indices = []\n",
        "  edge_attrs = []\n",
        "\n",
        "  for bond in mol.GetBonds():\n",
        "    edge_indices += [[bond.GetBeginAtomIdx(), bond.GetEndAtomIdx()]]\n",
        "    edge_indices += [[bond.GetEndAtomIdx(), bond.GetBeginAtomIdx()]]\n",
        "\n",
        "    # Bond type feature\n",
        "    bond_type = bond.GetBondType()\n",
        "    single = 1. if bond_type == Chem.rdchem.BondType.SINGLE else 0.\n",
        "    double = 1. if bond_type == Chem.rdchem.BondType.DOUBLE else 0.\n",
        "    triple = 1. if bond_type == Chem.rdchem.BondType.TRIPLE else 0.\n",
        "    aromatic = 1. if bond_type == Chem.rdchem.BondType.AROMATIC else 0.\n",
        "\n",
        "    # Conjugation feature\n",
        "    conjugation = 1. if bond.GetIsConjugated() else 0.\n",
        "\n",
        "    # Stereo feature\n",
        "    stereo = [0.]*len(stereos)\n",
        "    stereo[stereos.index(bond.GetStereo())] = 1.\n",
        "\n",
        "    # Ring membership feature\n",
        "    ring_membership = 1. if bond.IsInRing() else 0.\n",
        "\n",
        "\n",
        "    edge_attr = torch.tensor([single, double, triple, aromatic, conjugation,\n",
        "                                  ring_membership] + stereo)\n",
        "    edge_attrs += [edge_attr, edge_attr]\n",
        "\n",
        "  if len(edge_attrs) == 0:\n",
        "    edge_index = torch.zeros((2,0), dtype=torch.long)\n",
        "    edge_attr = torch.zeros((0,10), dtype=torch.float)\n",
        "  else:\n",
        "    edge_index = torch.tensor(edge_indices).t().contiguous()\n",
        "    edge_attr =  torch.stack(edge_attrs, dim=0)\n",
        "\n",
        "  return edge_index, edge_attr\n",
        "\n"
      ],
      "metadata": {
        "id": "wYvHDJA9mZUS"
      },
      "execution_count": 13,
      "outputs": []
    },
    {
      "cell_type": "markdown",
      "source": [
        "### **4.2. Conversion to a graph**"
      ],
      "metadata": {
        "id": "zbFB1YTVQMF3"
      }
    },
    {
      "cell_type": "code",
      "source": [
        "def smiles_to_graph(smiles):\n",
        "  mol = Chem.MolFromSmiles(smiles)\n",
        "  if mol==None:\n",
        "    return None\n",
        "\n",
        "  ## Atom features\n",
        "  features = atom_features(mol)\n",
        "\n",
        "  ## Edge features\n",
        "  edge_index, edge_attr = edge_features(mol)\n",
        "\n",
        "  nb_atoms = mol.GetNumAtoms()\n",
        "  adjacency_matrix = rdmolops.GetAdjacencyMatrix(mol, useBO=True)\n",
        "\n",
        "  return nb_atoms, features, edge_index, edge_attr, adjacency_matrix"
      ],
      "metadata": {
        "id": "_JWz_labPEdQ"
      },
      "execution_count": 14,
      "outputs": []
    },
    {
      "cell_type": "code",
      "source": [
        "Chem.MolFromSmiles('ClC(=C)Cl')"
      ],
      "metadata": {
        "colab": {
          "base_uri": "https://localhost:8080/",
          "height": 167
        },
        "id": "JWWRy1uuUuDQ",
        "outputId": "b2def216-651c-47b5-ed84-dcfd9b84b98c"
      },
      "execution_count": 15,
      "outputs": [
        {
          "output_type": "execute_result",
          "data": {
            "text/plain": [
              "<rdkit.Chem.rdchem.Mol at 0x78eb4fe06ce0>"
            ],
            "image/png": "[encoded data removed]"
          },
          "metadata": {},
          "execution_count": 15
        }
      ]
    },
    {
      "cell_type": "code",
      "source": [
        "# smiles_to_graph('ClC(=C)Cl')"
      ],
      "metadata": {
        "id": "3pyMsXuOMmtG"
      },
      "execution_count": 16,
      "outputs": []
    },
    {
      "cell_type": "code",
      "source": [
        "graph_data = []\n",
        "targets = []\n",
        "\n",
        "for idx, row in sol.iterrows():\n",
        "    smiles = row['SMILES']\n",
        "    solubility = row['measured log(solubility:mol/L)']\n",
        "    graph = smiles_to_graph(smiles)\n",
        "    if graph is not None:\n",
        "        nb_atoms, features, edge_index, edge_attr, adjacency_matrix = graph\n",
        "        graph_data.append(Data(x=features, edge_index=edge_index, edge_attr=edge_attr))\n",
        "        targets.append(solubility)"
      ],
      "metadata": {
        "id": "YR7mzcuAH0ks"
      },
      "execution_count": 17,
      "outputs": []
    },
    {
      "cell_type": "code",
      "source": [
        "# Convert targets to tensor\n",
        "targets = torch.tensor(targets, dtype=torch.float32)"
      ],
      "metadata": {
        "id": "cvaIIC_7UrAL"
      },
      "execution_count": 18,
      "outputs": []
    },
    {
      "cell_type": "markdown",
      "source": [
        "## **5. Graph Convolutional Neural Network**"
      ],
      "metadata": {
        "id": "ReKd0ejvQYLS"
      }
    },
    {
      "cell_type": "markdown",
      "source": [
        "### **5.1. Split data into training and testing**"
      ],
      "metadata": {
        "id": "fNnzJkzFQkOi"
      }
    },
    {
      "cell_type": "code",
      "source": [
        "train_data, test_data, train_targets, test_targets = train_test_split(graph_data, targets, test_size=0.2, random_state=42)"
      ],
      "metadata": {
        "id": "sqvtdJtPIE7t"
      },
      "execution_count": 19,
      "outputs": []
    },
    {
      "cell_type": "markdown",
      "source": [
        "### **5.2. Define the model**"
      ],
      "metadata": {
        "id": "_2ilweuGQsG2"
      }
    },
    {
      "cell_type": "code",
      "source": [
        "class GCN(nn.Module):\n",
        "  def __init__(self, num_features=43, dropout=0.2):\n",
        "    super(GCN, self).__init__()\n",
        "\n",
        "    self.conv1 = GCNConv(num_features, 336)\n",
        "    self.conv2 = GCNConv(336, 168)\n",
        "    self.lin1 = nn.Linear(168, 84)\n",
        "    self.lin2 = nn.Linear(84, 42)\n",
        "    self.out = nn.Linear(42, 1)\n",
        "\n",
        "    self.dropout = nn.Dropout(dropout)\n",
        "\n",
        "  def forward(self, data):\n",
        "    x, edge_index = data.x, data.edge_index\n",
        "\n",
        "    x = F.relu(self.conv1(x, edge_index))\n",
        "    x = F.dropout(x, p=0.2, training=self.training)\n",
        "    x = self.conv2(x, edge_index)\n",
        "    x = F.relu(x)\n",
        "    x = gmp(x, batch=data.batch)\n",
        "    x = self.lin1(x)\n",
        "    x = F.relu(x)\n",
        "\n",
        "    x = self.lin2(x)\n",
        "    x = F.relu(x)\n",
        "    x = self.out(x)\n",
        "\n",
        "    return x"
      ],
      "metadata": {
        "id": "1-UTeP-RueSk"
      },
      "execution_count": 22,
      "outputs": []
    },
    {
      "cell_type": "markdown",
      "source": [
        "### **5.3. Initialize the model**"
      ],
      "metadata": {
        "id": "8TEqKElUQ4KH"
      }
    },
    {
      "cell_type": "code",
      "source": [
        "model = GCN(num_features=43)\n",
        "device = torch.device(\"cuda\" if torch.cuda.is_available() else \"cpu\")\n",
        "model.to(device)\n",
        "\n",
        "criterion = nn.MSELoss()\n",
        "optimizer = optim.Adam(model.parameters(), lr=0.01)"
      ],
      "metadata": {
        "id": "2pZKAYTLRALR"
      },
      "execution_count": 27,
      "outputs": []
    },
    {
      "cell_type": "markdown",
      "source": [
        "### **5.4. Train the model**"
      ],
      "metadata": {
        "id": "jxKffHRbRLHI"
      }
    },
    {
      "cell_type": "code",
      "source": [
        "from tqdm import tqdm\n",
        "\n",
        "# 3.4. Train the model\n",
        "\n",
        "num_epochs = 100\n",
        "train_losses = []\n",
        "\n",
        "for epoch in range(num_epochs):\n",
        "  model.train()\n",
        "  epoch_loss = 0.0\n",
        "  with tqdm(total=len(train_data), desc=f\"Epoch {epoch+1}/{num_epochs}\", unit='data') as pbar:\n",
        "      for data, target in zip(train_data, train_targets):\n",
        "        # Move data and target to GPU\n",
        "        data = data.to(device)\n",
        "        target = target.to(device)\n",
        "\n",
        "        optimizer.zero_grad()\n",
        "        outputs = model(data)\n",
        "\n",
        "        # Ensure target tensor has the same size as outputs\n",
        "        if target.dim() == 0:\n",
        "          target = target.expand_as(outputs)\n",
        "\n",
        "        mse_loss = F.mse_loss(outputs, target)  # Use torch.nn.functional.mse_loss\n",
        "        mae_loss = F.l1_loss(outputs, target)\n",
        "        mse_loss.backward()\n",
        "        # mae_loss.backward()\n",
        "        optimizer.step()\n",
        "\n",
        "        epoch_loss += mse_loss.item()\n",
        "        pbar.set_postfix(mse_loss=mse_loss.item(), mae_loss=mae_loss.item())\n",
        "        pbar.update(1)\n",
        "\n",
        "      train_losses.append(epoch_loss / len(train_data))\n",
        "\n",
        "print(\"\\nTraining finished.\")"
      ],
      "metadata": {
        "colab": {
          "base_uri": "https://localhost:8080/"
        },
        "id": "XUsdAegSWjQg",
        "outputId": "e81d52e8-833e-469c-d325-8c26b91b6c0b"
      },
      "execution_count": 44,
      "outputs": [
        {
          "output_type": "stream",
          "name": "stderr",
          "text": [
            "Epoch 1/100: 100%|██████████| 915/915 [00:05<00:00, 173.46data/s, mae_loss=0.212, mse_loss=0.0448]\n",
            "Epoch 2/100: 100%|██████████| 915/915 [00:05<00:00, 177.63data/s, mae_loss=0.701, mse_loss=0.492]\n",
            "Epoch 3/100: 100%|██████████| 915/915 [00:05<00:00, 174.26data/s, mae_loss=0.686, mse_loss=0.471]\n",
            "Epoch 4/100: 100%|██████████| 915/915 [00:05<00:00, 178.97data/s, mae_loss=0.283, mse_loss=0.0802]\n",
            "Epoch 5/100: 100%|██████████| 915/915 [00:05<00:00, 174.23data/s, mae_loss=3.49, mse_loss=12.2]\n",
            "Epoch 6/100: 100%|██████████| 915/915 [00:05<00:00, 179.16data/s, mae_loss=2.09, mse_loss=4.38]\n",
            "Epoch 7/100: 100%|██████████| 915/915 [00:05<00:00, 178.65data/s, mae_loss=0.301, mse_loss=0.0905]\n",
            "Epoch 8/100: 100%|██████████| 915/915 [00:05<00:00, 172.83data/s, mae_loss=0.301, mse_loss=0.0904]\n",
            "Epoch 9/100: 100%|██████████| 915/915 [00:05<00:00, 178.72data/s, mae_loss=0.0273, mse_loss=0.000747]\n",
            "Epoch 10/100: 100%|██████████| 915/915 [00:05<00:00, 175.15data/s, mae_loss=0.128, mse_loss=0.0164]\n",
            "Epoch 11/100: 100%|██████████| 915/915 [00:05<00:00, 179.33data/s, mae_loss=1.22, mse_loss=1.5]\n",
            "Epoch 12/100: 100%|██████████| 915/915 [00:05<00:00, 175.86data/s, mae_loss=1.79, mse_loss=3.19]\n",
            "Epoch 13/100: 100%|██████████| 915/915 [00:05<00:00, 177.50data/s, mae_loss=1.04, mse_loss=1.07]\n",
            "Epoch 14/100: 100%|██████████| 915/915 [00:05<00:00, 180.53data/s, mae_loss=1.4, mse_loss=1.97]\n",
            "Epoch 15/100: 100%|██████████| 915/915 [00:05<00:00, 176.17data/s, mae_loss=0.743, mse_loss=0.552]\n",
            "Epoch 16/100: 100%|██████████| 915/915 [00:05<00:00, 177.81data/s, mae_loss=1.59, mse_loss=2.52]\n",
            "Epoch 17/100: 100%|██████████| 915/915 [00:05<00:00, 173.97data/s, mae_loss=0.97, mse_loss=0.94]\n",
            "Epoch 18/100: 100%|██████████| 915/915 [00:05<00:00, 178.91data/s, mae_loss=1.96, mse_loss=3.82]\n",
            "Epoch 19/100: 100%|██████████| 915/915 [00:05<00:00, 174.62data/s, mae_loss=0.456, mse_loss=0.208]\n",
            "Epoch 20/100: 100%|██████████| 915/915 [00:05<00:00, 178.23data/s, mae_loss=0.396, mse_loss=0.157]\n",
            "Epoch 21/100: 100%|██████████| 915/915 [00:05<00:00, 175.96data/s, mae_loss=0.618, mse_loss=0.382]\n",
            "Epoch 22/100: 100%|██████████| 915/915 [00:05<00:00, 174.71data/s, mae_loss=0.498, mse_loss=0.248]\n",
            "Epoch 23/100: 100%|██████████| 915/915 [00:05<00:00, 178.89data/s, mae_loss=1.07, mse_loss=1.14]\n",
            "Epoch 24/100: 100%|██████████| 915/915 [00:05<00:00, 175.65data/s, mae_loss=0.4, mse_loss=0.16]\n",
            "Epoch 25/100: 100%|██████████| 915/915 [00:05<00:00, 178.31data/s, mae_loss=0.331, mse_loss=0.11]\n",
            "Epoch 26/100: 100%|██████████| 915/915 [00:05<00:00, 175.61data/s, mae_loss=0.306, mse_loss=0.0934]\n",
            "Epoch 27/100: 100%|██████████| 915/915 [00:05<00:00, 177.80data/s, mae_loss=0.0643, mse_loss=0.00414]\n",
            "Epoch 28/100: 100%|██████████| 915/915 [00:05<00:00, 174.97data/s, mae_loss=0.545, mse_loss=0.297]\n",
            "Epoch 29/100: 100%|██████████| 915/915 [00:05<00:00, 175.52data/s, mae_loss=0.322, mse_loss=0.104]\n",
            "Epoch 30/100: 100%|██████████| 915/915 [00:05<00:00, 180.23data/s, mae_loss=1.81, mse_loss=3.29]\n",
            "Epoch 31/100: 100%|██████████| 915/915 [00:05<00:00, 176.55data/s, mae_loss=0.014, mse_loss=0.000197]\n",
            "Epoch 32/100: 100%|██████████| 915/915 [00:05<00:00, 177.67data/s, mae_loss=0.688, mse_loss=0.473]\n",
            "Epoch 33/100: 100%|██████████| 915/915 [00:05<00:00, 174.05data/s, mae_loss=0.444, mse_loss=0.197]\n",
            "Epoch 34/100: 100%|██████████| 915/915 [00:05<00:00, 176.23data/s, mae_loss=0.518, mse_loss=0.269]\n",
            "Epoch 35/100: 100%|██████████| 915/915 [00:05<00:00, 175.59data/s, mae_loss=1.1, mse_loss=1.2]\n",
            "Epoch 36/100: 100%|██████████| 915/915 [00:05<00:00, 174.67data/s, mae_loss=2.03, mse_loss=4.13]\n",
            "Epoch 37/100: 100%|██████████| 915/915 [00:05<00:00, 180.77data/s, mae_loss=1.59, mse_loss=2.53]\n",
            "Epoch 38/100: 100%|██████████| 915/915 [00:05<00:00, 174.31data/s, mae_loss=0.233, mse_loss=0.0542]\n",
            "Epoch 39/100: 100%|██████████| 915/915 [00:05<00:00, 178.68data/s, mae_loss=1.4, mse_loss=1.95]\n",
            "Epoch 40/100: 100%|██████████| 915/915 [00:05<00:00, 172.78data/s, mae_loss=0.564, mse_loss=0.318]\n",
            "Epoch 41/100: 100%|██████████| 915/915 [00:05<00:00, 178.32data/s, mae_loss=0.518, mse_loss=0.268]\n",
            "Epoch 42/100: 100%|██████████| 915/915 [00:05<00:00, 179.11data/s, mae_loss=1.08, mse_loss=1.16]\n",
            "Epoch 43/100: 100%|██████████| 915/915 [00:05<00:00, 175.89data/s, mae_loss=0.446, mse_loss=0.199]\n",
            "Epoch 44/100: 100%|██████████| 915/915 [00:05<00:00, 174.57data/s, mae_loss=0.233, mse_loss=0.0542]\n",
            "Epoch 45/100: 100%|██████████| 915/915 [00:05<00:00, 175.11data/s, mae_loss=0.287, mse_loss=0.0824]\n",
            "Epoch 46/100: 100%|██████████| 915/915 [00:05<00:00, 178.28data/s, mae_loss=0.832, mse_loss=0.692]\n",
            "Epoch 47/100: 100%|██████████| 915/915 [00:05<00:00, 174.35data/s, mae_loss=1.44, mse_loss=2.06]\n",
            "Epoch 48/100: 100%|██████████| 915/915 [00:05<00:00, 174.44data/s, mae_loss=0.095, mse_loss=0.00902]\n",
            "Epoch 49/100: 100%|██████████| 915/915 [00:05<00:00, 177.71data/s, mae_loss=0.344, mse_loss=0.118]\n",
            "Epoch 50/100: 100%|██████████| 915/915 [00:05<00:00, 174.06data/s, mae_loss=1.08, mse_loss=1.18]\n",
            "Epoch 51/100: 100%|██████████| 915/915 [00:05<00:00, 178.36data/s, mae_loss=2.27, mse_loss=5.16]\n",
            "Epoch 52/100: 100%|██████████| 915/915 [00:05<00:00, 171.85data/s, mae_loss=2.37, mse_loss=5.64]\n",
            "Epoch 53/100: 100%|██████████| 915/915 [00:05<00:00, 177.74data/s, mae_loss=1.79, mse_loss=3.19]\n",
            "Epoch 54/100: 100%|██████████| 915/915 [00:05<00:00, 174.13data/s, mae_loss=2.05, mse_loss=4.21]\n",
            "Epoch 55/100: 100%|██████████| 915/915 [00:05<00:00, 177.74data/s, mae_loss=1.84, mse_loss=3.39]\n",
            "Epoch 56/100: 100%|██████████| 915/915 [00:05<00:00, 173.93data/s, mae_loss=4.65, mse_loss=21.6]\n",
            "Epoch 57/100: 100%|██████████| 915/915 [00:05<00:00, 175.37data/s, mae_loss=0.227, mse_loss=0.0515]\n",
            "Epoch 58/100: 100%|██████████| 915/915 [00:05<00:00, 178.50data/s, mae_loss=0.189, mse_loss=0.0357]\n",
            "Epoch 59/100: 100%|██████████| 915/915 [00:05<00:00, 173.38data/s, mae_loss=0.657, mse_loss=0.431]\n",
            "Epoch 60/100: 100%|██████████| 915/915 [00:05<00:00, 177.31data/s, mae_loss=0.945, mse_loss=0.893]\n",
            "Epoch 61/100: 100%|██████████| 915/915 [00:05<00:00, 175.25data/s, mae_loss=0.0771, mse_loss=0.00594]\n",
            "Epoch 62/100: 100%|██████████| 915/915 [00:05<00:00, 177.50data/s, mae_loss=1.2, mse_loss=1.45]\n",
            "Epoch 63/100: 100%|██████████| 915/915 [00:05<00:00, 173.54data/s, mae_loss=0.35, mse_loss=0.123]\n",
            "Epoch 64/100: 100%|██████████| 915/915 [00:05<00:00, 177.23data/s, mae_loss=2.53, mse_loss=6.41]\n",
            "Epoch 65/100: 100%|██████████| 915/915 [00:05<00:00, 176.04data/s, mae_loss=0.764, mse_loss=0.583]\n",
            "Epoch 66/100: 100%|██████████| 915/915 [00:05<00:00, 174.33data/s, mae_loss=1.02, mse_loss=1.05]\n",
            "Epoch 67/100: 100%|██████████| 915/915 [00:05<00:00, 176.66data/s, mae_loss=0.844, mse_loss=0.713]\n",
            "Epoch 68/100: 100%|██████████| 915/915 [00:05<00:00, 173.89data/s, mae_loss=0.33, mse_loss=0.109]\n",
            "Epoch 69/100: 100%|██████████| 915/915 [00:05<00:00, 178.23data/s, mae_loss=0.171, mse_loss=0.0292]\n",
            "Epoch 70/100: 100%|██████████| 915/915 [00:05<00:00, 176.64data/s, mae_loss=0.864, mse_loss=0.746]\n",
            "Epoch 71/100: 100%|██████████| 915/915 [00:05<00:00, 177.74data/s, mae_loss=1.08, mse_loss=1.16]\n",
            "Epoch 72/100: 100%|██████████| 915/915 [00:05<00:00, 178.69data/s, mae_loss=0.46, mse_loss=0.211]\n",
            "Epoch 73/100: 100%|██████████| 915/915 [00:05<00:00, 172.89data/s, mae_loss=1.23, mse_loss=1.51]\n",
            "Epoch 74/100: 100%|██████████| 915/915 [00:05<00:00, 177.78data/s, mae_loss=2.79, mse_loss=7.78]\n",
            "Epoch 75/100: 100%|██████████| 915/915 [00:05<00:00, 174.26data/s, mae_loss=0.492, mse_loss=0.242]\n",
            "Epoch 76/100: 100%|██████████| 915/915 [00:05<00:00, 178.39data/s, mae_loss=1.45, mse_loss=2.1]\n",
            "Epoch 77/100: 100%|██████████| 915/915 [00:05<00:00, 177.07data/s, mae_loss=2.69, mse_loss=7.21]\n",
            "Epoch 78/100: 100%|██████████| 915/915 [00:05<00:00, 177.31data/s, mae_loss=1.67, mse_loss=2.81]\n",
            "Epoch 79/100: 100%|██████████| 915/915 [00:05<00:00, 174.98data/s, mae_loss=0.555, mse_loss=0.308]\n",
            "Epoch 80/100: 100%|██████████| 915/915 [00:05<00:00, 173.47data/s, mae_loss=0.674, mse_loss=0.454]\n",
            "Epoch 81/100: 100%|██████████| 915/915 [00:05<00:00, 176.80data/s, mae_loss=0.605, mse_loss=0.366]\n",
            "Epoch 82/100: 100%|██████████| 915/915 [00:05<00:00, 175.33data/s, mae_loss=0.232, mse_loss=0.0538]\n",
            "Epoch 83/100: 100%|██████████| 915/915 [00:05<00:00, 176.50data/s, mae_loss=0.165, mse_loss=0.0273]\n",
            "Epoch 84/100: 100%|██████████| 915/915 [00:05<00:00, 173.99data/s, mae_loss=0.764, mse_loss=0.584]\n",
            "Epoch 85/100: 100%|██████████| 915/915 [00:05<00:00, 178.02data/s, mae_loss=0.276, mse_loss=0.0761]\n",
            "Epoch 86/100: 100%|██████████| 915/915 [00:05<00:00, 177.66data/s, mae_loss=0.214, mse_loss=0.0457]\n",
            "Epoch 87/100: 100%|██████████| 915/915 [00:05<00:00, 174.43data/s, mae_loss=0.485, mse_loss=0.235]\n",
            "Epoch 88/100: 100%|██████████| 915/915 [00:05<00:00, 176.96data/s, mae_loss=0.41, mse_loss=0.168]\n",
            "Epoch 89/100: 100%|██████████| 915/915 [00:05<00:00, 171.60data/s, mae_loss=0.572, mse_loss=0.327]\n",
            "Epoch 90/100: 100%|██████████| 915/915 [00:05<00:00, 176.08data/s, mae_loss=2.11, mse_loss=4.45]\n",
            "Epoch 91/100: 100%|██████████| 915/915 [00:05<00:00, 172.32data/s, mae_loss=0.378, mse_loss=0.143]\n",
            "Epoch 92/100: 100%|██████████| 915/915 [00:05<00:00, 175.46data/s, mae_loss=0.877, mse_loss=0.77]\n",
            "Epoch 93/100: 100%|██████████| 915/915 [00:05<00:00, 174.27data/s, mae_loss=0.737, mse_loss=0.543]\n",
            "Epoch 94/100: 100%|██████████| 915/915 [00:05<00:00, 173.57data/s, mae_loss=0.504, mse_loss=0.254]\n",
            "Epoch 95/100: 100%|██████████| 915/915 [00:05<00:00, 177.68data/s, mae_loss=0.247, mse_loss=0.0611]\n",
            "Epoch 96/100: 100%|██████████| 915/915 [00:05<00:00, 173.04data/s, mae_loss=0.629, mse_loss=0.395]\n",
            "Epoch 97/100: 100%|██████████| 915/915 [00:05<00:00, 175.57data/s, mae_loss=0.422, mse_loss=0.178]\n",
            "Epoch 98/100: 100%|██████████| 915/915 [00:05<00:00, 173.72data/s, mae_loss=3.26, mse_loss=10.6]\n",
            "Epoch 99/100: 100%|██████████| 915/915 [00:05<00:00, 178.05data/s, mae_loss=0.0638, mse_loss=0.00407]\n",
            "Epoch 100/100: 100%|██████████| 915/915 [00:05<00:00, 172.49data/s, mae_loss=0.0291, mse_loss=0.000847]"
          ]
        },
        {
          "output_type": "stream",
          "name": "stdout",
          "text": [
            "\n",
            "Training finished.\n"
          ]
        },
        {
          "output_type": "stream",
          "name": "stderr",
          "text": [
            "\n"
          ]
        }
      ]
    },
    {
      "cell_type": "markdown",
      "source": [
        "Plot the training loss :"
      ],
      "metadata": {
        "id": "V80j_M_XL8h1"
      }
    },
    {
      "cell_type": "code",
      "source": [
        "plt.plot(train_losses, label='Training Loss')\n",
        "plt.xlabel('Epochs')\n",
        "plt.ylabel('Loss')\n",
        "plt.title('Training Loss vs. Epochs')\n",
        "plt.legend()\n",
        "plt.show()"
      ],
      "metadata": {
        "colab": {
          "base_uri": "https://localhost:8080/",
          "height": 472
        },
        "id": "J0ltS3e_vROF",
        "outputId": "dc730374-f4e2-4911-ce14-a62a77aaf8ea"
      },
      "execution_count": 45,
      "outputs": [
        {
          "output_type": "display_data",
          "data": {
            "text/plain": [
              "<Figure size 640x480 with 1 Axes>"
            ],
            "image/png": "[encoded data removed]"
          },
          "metadata": {}
        }
      ]
    },
    {
      "cell_type": "markdown",
      "source": [
        "Save the weights :"
      ],
      "metadata": {
        "id": "eJOBFHX3MB6b"
      }
    },
    {
      "cell_type": "code",
      "source": [
        "from google.colab import drive\n",
        "drive.mount('/content/drive')"
      ],
      "metadata": {
        "colab": {
          "base_uri": "https://localhost:8080/"
        },
        "id": "V3IvAXUuWzf5",
        "outputId": "c43b443a-2d00-4789-829e-252a4032dac1"
      },
      "execution_count": 25,
      "outputs": [
        {
          "output_type": "stream",
          "name": "stdout",
          "text": [
            "Drive already mounted at /content/drive; to attempt to forcibly remount, call drive.mount(\"/content/drive\", force_remount=True).\n"
          ]
        }
      ]
    },
    {
      "cell_type": "code",
      "source": [
        "torch.save(model.state_dict(), '/content/model_weights.pth')"
      ],
      "metadata": {
        "id": "4VLNzbd3W3EU"
      },
      "execution_count": 30,
      "outputs": []
    },
    {
      "cell_type": "markdown",
      "source": [
        "### **5.5. Evaluate the model**"
      ],
      "metadata": {
        "id": "6g0DxXdbRVtO"
      }
    },
    {
      "cell_type": "markdown",
      "source": [
        "#### **5.5.1. Compute the average loss on test data**"
      ],
      "metadata": {
        "id": "GjwcQV4xMQx1"
      }
    },
    {
      "cell_type": "code",
      "source": [
        "model.eval()\n",
        "total_mse_loss = 0.0\n",
        "total_mae_loss = 0.0\n",
        "\n",
        "with torch.no_grad():\n",
        "  for data, target in zip(test_data, test_targets):\n",
        "    data = data.to(device)\n",
        "    target = target.to(device)\n",
        "    outputs = model(data)\n",
        "\n",
        "    if target.dim() == 0:\n",
        "        target = target.expand_as(outputs)\n",
        "\n",
        "    mse_loss = F.mse_loss(outputs, target)\n",
        "    mae_loss = F.l1_loss(outputs, target)\n",
        "\n",
        "    total_mse_loss += mse_loss.item()\n",
        "    total_mae_loss += mae_loss.item()\n",
        "\n",
        "  avg_mse_loss = total_mse_loss / len(test_data)\n",
        "  avg_mae_loss = total_mae_loss / len(test_data)\n",
        "  print(f\"Average MSE Loss on Test Data: {avg_mse_loss}\")\n",
        "  print(f\"Average MAE Loss on Test Data: {avg_mae_loss}\")"
      ],
      "metadata": {
        "id": "VDHk4Tv_RZO6",
        "colab": {
          "base_uri": "https://localhost:8080/"
        },
        "outputId": "4829f931-2990-40e7-fafb-5cd29a0f8e34"
      },
      "execution_count": 46,
      "outputs": [
        {
          "output_type": "stream",
          "name": "stdout",
          "text": [
            "Average MSE Loss on Test Data: 1.0215481704553577\n",
            "Average MAE Loss on Test Data: 0.7726897170449969\n"
          ]
        }
      ]
    },
    {
      "cell_type": "markdown",
      "source": [
        "#### **5.5.2. Display the predicted solubility vs ground truth**"
      ],
      "metadata": {
        "id": "aHxh5dXSMb-G"
      }
    },
    {
      "cell_type": "code",
      "source": [
        "# Get predicted solubility values for test data\n",
        "predicted_solubilities = []\n",
        "with torch.no_grad():\n",
        "    for data in test_data:\n",
        "        outputs = model(data)\n",
        "        predicted_solubilities.append(outputs.item())\n",
        "\n",
        "# Convert predicted and actual solubility values to NumPy arrays for plotting\n",
        "predicted_solubilities = np.array(predicted_solubilities)\n",
        "actual_solubilities = test_targets.numpy()\n",
        "\n",
        "# Plot\n",
        "plt.figure(figsize=(8, 6))\n",
        "plt.scatter(actual_solubilities, predicted_solubilities, color='blue', s=15)\n",
        "plt.title('Predicted Solubility vs Actual Solubility')\n",
        "plt.xlabel('Actual Solubility')\n",
        "plt.ylabel('Predicted Solubility')\n",
        "\n",
        "plt.plot(actual_solubilities, actual_solubilities, color='gray', linestyle='--')\n",
        "\n",
        "plt.grid(False)\n",
        "plt.show()"
      ],
      "metadata": {
        "id": "PHoJzwU7uLLP",
        "outputId": "b1cbbb61-1e87-4a12-c128-2472ecf833a5",
        "colab": {
          "base_uri": "https://localhost:8080/",
          "height": 564
        }
      },
      "execution_count": 34,
      "outputs": [
        {
          "output_type": "display_data",
          "data": {
            "text/plain": [
              "<Figure size 800x600 with 1 Axes>"
            ],
            "image/png": "[encoded data removed]"
          },
          "metadata": {}
        }
      ]
    },
    {
      "cell_type": "markdown",
      "source": [
        "#### **5.5.3. Results of the previous paper**"
      ],
      "metadata": {
        "id": "p0OOuv5OOPyM"
      }
    },
    {
      "cell_type": "markdown",
      "source": [
        "##### **Average Loss**"
      ],
      "metadata": {
        "id": "3eJLtFfnOjKi"
      }
    },
    {
      "cell_type": "code",
      "source": [
        "predicted_solubility = sol['ESOL predicted log(solubility:mol/L)']\n",
        "measured_solubility = sol['measured log(solubility:mol/L)']\n",
        "\n",
        "mse_loss = mean_squared_error(measured_solubility, predicted_solubility)\n",
        "mae_loss = mean_absolute_error(measured_solubility, predicted_solubility)\n",
        "\n",
        "print(\"Mean Squared Error (MSE):\", mse_loss)\n",
        "print(\"Mean Absolute Error (MAE):\", mae_loss)"
      ],
      "metadata": {
        "id": "Lm0l2nAtODSU",
        "outputId": "dcbf4422-f9be-4bc4-866c-862b02cf3f66",
        "colab": {
          "base_uri": "https://localhost:8080/"
        }
      },
      "execution_count": 42,
      "outputs": [
        {
          "output_type": "stream",
          "name": "stdout",
          "text": [
            "Mean Squared Error (MSE): 0.8217520533216783\n",
            "Mean Absolute Error (MAE): 0.6944676573426574\n"
          ]
        }
      ]
    },
    {
      "cell_type": "markdown",
      "source": [
        "##### **Predicted solubility vs ground truth**"
      ],
      "metadata": {
        "id": "5C8hVceoOrEH"
      }
    },
    {
      "cell_type": "code",
      "source": [
        "plt.figure(figsize=(8, 6))\n",
        "plt.scatter(measured_solubility, predicted_solubility, color='red', alpha=0.5, s=15)\n",
        "plt.title('Predicted Solubility vs Measured Solubility')\n",
        "plt.xlabel('Measured Solubility (log(mol/L))')\n",
        "plt.ylabel('Predicted Solubility (log(mol/L))')\n",
        "\n",
        "plt.plot(actual_solubilities, actual_solubilities, color='gray', linestyle='--')\n",
        "\n",
        "plt.grid(False)\n",
        "plt.show()"
      ],
      "metadata": {
        "id": "36qJK90oJflT",
        "outputId": "1bc4d7ec-764d-4afc-f6da-5ed5998473f8",
        "colab": {
          "base_uri": "https://localhost:8080/",
          "height": 564
        }
      },
      "execution_count": 43,
      "outputs": [
        {
          "output_type": "display_data",
          "data": {
            "text/plain": [
              "<Figure size 800x600 with 1 Axes>"
            ],
            "image/png": "[encoded data removed]"
          },
          "metadata": {}
        }
      ]
    }
  ]
}